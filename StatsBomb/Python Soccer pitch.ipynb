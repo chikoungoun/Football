{
 "cells": [
  {
   "cell_type": "code",
   "execution_count": 19,
   "id": "75649116",
   "metadata": {},
   "outputs": [
    {
     "data": {
      "image/png": "[encoded data removed]",
      "text/plain": [
       "<Figure size 576x360 with 1 Axes>"
      ]
     },
     "metadata": {
      "needs_background": "light"
     },
     "output_type": "display_data"
    }
   ],
   "source": [
    "import matplotlib.pyplot as plt\n",
    "\n",
    "# set the figure size\n",
    "fig = plt.figure(figsize=(8, 5))\n",
    "\n",
    "# create the pitch rectangle\n",
    "ax = fig.add_subplot(1, 1, 1)\n",
    "pitch = plt.Rectangle((0, 0), 120, 80, fill=False, lw=2)\n",
    "ax.add_patch(pitch)\n",
    "\n",
    "# create the center circle\n",
    "center_circle = plt.Circle((60, 40), 10, fill=False, lw=2)\n",
    "ax.add_patch(center_circle)\n",
    "\n",
    "# create the center line\n",
    "center_line = plt.Line2D((60, 60), (0, 80), color='black', linewidth=2)\n",
    "ax.add_line(center_line)\n",
    "\n",
    "# create the penalty areas\n",
    "penalty_area_1 = plt.Rectangle((0, 18), 18, 44, fill=False, lw=2)\n",
    "penalty_area_2 = plt.Rectangle((102, 18), 18, 44, fill=False, lw=2)\n",
    "ax.add_patch(penalty_area_1)\n",
    "ax.add_patch(penalty_area_2)\n",
    "\n",
    "# create the goal areas\n",
    "goal_area_1 = plt.Rectangle((0, 30), 6, 20, fill=False, lw=2)\n",
    "goal_area_2 = plt.Rectangle((114, 30), 6, 20, fill=False, lw=2)\n",
    "ax.add_patch(goal_area_1)\n",
    "ax.add_patch(goal_area_2)\n",
    "\n",
    "# create the goals\n",
    "goal_1 = plt.Rectangle((-0.5, 36), 1, 8, fill=True, lw=2, facecolor='red')\n",
    "goal_2 = plt.Rectangle((119.5, 36), 1, 8, fill=True, lw=2, facecolor='red')\n",
    "ax.add_patch(goal_1)\n",
    "ax.add_patch(goal_2)\n",
    "\n",
    "# set the axis limits\n",
    "plt.xlim(0, 125)\n",
    "plt.ylim(0, 85)\n",
    "\n",
    "# remove the axis ticks and labels\n",
    "plt.axis('off')\n",
    "\n",
    "fig.tight_layout()\n",
    "\n",
    "# show the plot\n",
    "plt.show()"
   ]
  },
  {
   "cell_type": "code",
   "execution_count": null,
   "id": "1af0e8ce",
   "metadata": {},
   "outputs": [],
   "source": []
  }
 ],
 "metadata": {
  "kernelspec": {
   "display_name": "Python 3 (ipykernel)",
   "language": "python",
   "name": "python3"
  },
  "language_info": {
   "codemirror_mode": {
    "name": "ipython",
    "version": 3
   },
   "file_extension": ".py",
   "mimetype": "text/x-python",
   "name": "python",
   "nbconvert_exporter": "python",
   "pygments_lexer": "ipython3",
   "version": "3.8.2"
  }
 },
 "nbformat": 4,
 "nbformat_minor": 5
}
