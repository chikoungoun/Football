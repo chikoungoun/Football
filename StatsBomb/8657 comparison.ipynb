{
 "cells": [
  {
   "cell_type": "code",
   "execution_count": 1,
   "metadata": {},
   "outputs": [],
   "source": [
    "import pandas as pd\n",
    "from statsbombpy import sb\n",
    "import json"
   ]
  },
  {
   "cell_type": "code",
   "execution_count": 2,
   "metadata": {},
   "outputs": [
    {
     "name": "stderr",
     "output_type": "stream",
     "text": [
      "<ipython-input-2-1390d13c0cdd>:4: FutureWarning: Passing a negative integer is deprecated in version 1.0 and will not be supported in future version. Instead, use None to not limit the column width.\n",
      "  pd.set_option('display.max_colwidth', -1)\n"
     ]
    }
   ],
   "source": [
    "pd.set_option('display.max_rows', None)\n",
    "pd.set_option('display.max_columns', None)\n",
    "pd.set_option('display.width', None)\n",
    "pd.set_option('display.max_colwidth', -1)"
   ]
  },
  {
   "cell_type": "markdown",
   "metadata": {},
   "source": [
    "**Data from the statsbombpy API**"
   ]
  },
  {
   "cell_type": "code",
   "execution_count": 3,
   "metadata": {},
   "outputs": [
    {
     "name": "stdout",
     "output_type": "stream",
     "text": [
      "credentials were not supplied. open data access only\n"
     ]
    }
   ],
   "source": [
    "beleng = sb.events(match_id=8657)"
   ]
  },
  {
   "cell_type": "code",
   "execution_count": 4,
   "metadata": {},
   "outputs": [
    {
     "data": {
      "text/plain": [
       "(4426, 77)"
      ]
     },
     "execution_count": 4,
     "metadata": {},
     "output_type": "execute_result"
    }
   ],
   "source": [
    "beleng.shape"
   ]
  },
  {
   "cell_type": "code",
   "execution_count": 5,
   "metadata": {},
   "outputs": [
    {
     "data": {
      "text/plain": [
       "Index(['50_50', 'bad_behaviour_card', 'ball_receipt_outcome',\n",
       "       'ball_recovery_offensive', 'ball_recovery_recovery_failure',\n",
       "       'block_deflection', 'block_save_block', 'carry_end_location',\n",
       "       'counterpress', 'dribble_outcome', 'dribble_overrun', 'duel_outcome',\n",
       "       'duel_type', 'duration', 'foul_committed_advantage',\n",
       "       'foul_committed_card', 'foul_committed_offensive',\n",
       "       'foul_committed_type', 'foul_won_advantage', 'foul_won_defensive',\n",
       "       'goalkeeper_body_part', 'goalkeeper_end_location', 'goalkeeper_outcome',\n",
       "       'goalkeeper_position', 'goalkeeper_technique', 'goalkeeper_type', 'id',\n",
       "       'index', 'interception_outcome', 'location', 'match_id', 'minute',\n",
       "       'pass_aerial_won', 'pass_angle', 'pass_assisted_shot_id',\n",
       "       'pass_backheel', 'pass_body_part', 'pass_cross', 'pass_cut_back',\n",
       "       'pass_deflected', 'pass_end_location', 'pass_goal_assist',\n",
       "       'pass_height', 'pass_length', 'pass_outcome', 'pass_recipient',\n",
       "       'pass_shot_assist', 'pass_switch', 'pass_type', 'period',\n",
       "       'play_pattern', 'player', 'position', 'possession', 'possession_team',\n",
       "       'related_events', 'second', 'shot_aerial_won', 'shot_body_part',\n",
       "       'shot_deflected', 'shot_end_location', 'shot_first_time',\n",
       "       'shot_freeze_frame', 'shot_key_pass_id', 'shot_one_on_one',\n",
       "       'shot_outcome', 'shot_redirect', 'shot_statsbomb_xg', 'shot_technique',\n",
       "       'shot_type', 'substitution_outcome', 'substitution_replacement',\n",
       "       'tactics', 'team', 'timestamp', 'type', 'under_pressure'],\n",
       "      dtype='object')"
      ]
     },
     "execution_count": 5,
     "metadata": {},
     "output_type": "execute_result"
    }
   ],
   "source": [
    "beleng.columns"
   ]
  },
  {
   "cell_type": "markdown",
   "metadata": {},
   "source": [
    "**Data from the equivalent match json file**"
   ]
  },
  {
   "cell_type": "code",
   "execution_count": 6,
   "metadata": {},
   "outputs": [],
   "source": [
    "with open('C:\\\\Users\\\\marwane\\\\Football\\\\Exo\\\\8657.json',encoding=\"utf-8\") as data:\n",
    "    events = json.load(data)"
   ]
  },
  {
   "cell_type": "code",
   "execution_count": 7,
   "metadata": {},
   "outputs": [],
   "source": [
    "df = pd.read_json('8657.json')"
   ]
  },
  {
   "cell_type": "code",
   "execution_count": 8,
   "metadata": {},
   "outputs": [
    {
     "data": {
      "text/plain": [
       "(4426, 34)"
      ]
     },
     "execution_count": 8,
     "metadata": {},
     "output_type": "execute_result"
    }
   ],
   "source": [
    "df.shape"
   ]
  },
  {
   "cell_type": "code",
   "execution_count": 9,
   "metadata": {},
   "outputs": [
    {
     "data": {
      "text/plain": [
       "Index(['id', 'index', 'period', 'timestamp', 'minute', 'second', 'type',\n",
       "       'possession', 'possession_team', 'play_pattern', 'team', 'duration',\n",
       "       'tactics', 'related_events', 'player', 'position', 'location', 'pass',\n",
       "       'under_pressure', 'carry', 'ball_receipt', 'interception',\n",
       "       'counterpress', 'duel', 'dribble', '50_50', 'shot', 'goalkeeper',\n",
       "       'ball_recovery', 'foul_committed', 'foul_won', 'block', 'substitution',\n",
       "       'bad_behaviour'],\n",
       "      dtype='object')"
      ]
     },
     "execution_count": 9,
     "metadata": {},
     "output_type": "execute_result"
    }
   ],
   "source": [
    "df.columns"
   ]
  },
  {
   "cell_type": "code",
   "execution_count": 10,
   "metadata": {},
   "outputs": [
    {
     "data": {
      "text/html": [
       "<div>\n",
       "<style scoped>\n",
       "    .dataframe tbody tr th:only-of-type {\n",
       "        vertical-align: middle;\n",
       "    }\n",
       "\n",
       "    .dataframe tbody tr th {\n",
       "        vertical-align: top;\n",
       "    }\n",
       "\n",
       "    .dataframe thead th {\n",
       "        text-align: right;\n",
       "    }\n",
       "</style>\n",
       "<table border=\"1\" class=\"dataframe\">\n",
       "  <thead>\n",
       "    <tr style=\"text-align: right;\">\n",
       "      <th></th>\n",
       "      <th>id</th>\n",
       "      <th>index</th>\n",
       "      <th>period</th>\n",
       "      <th>timestamp</th>\n",
       "      <th>minute</th>\n",
       "      <th>second</th>\n",
       "      <th>type</th>\n",
       "      <th>possession</th>\n",
       "      <th>possession_team</th>\n",
       "      <th>play_pattern</th>\n",
       "      <th>team</th>\n",
       "      <th>duration</th>\n",
       "      <th>tactics</th>\n",
       "      <th>related_events</th>\n",
       "      <th>player</th>\n",
       "      <th>position</th>\n",
       "      <th>location</th>\n",
       "      <th>pass</th>\n",
       "      <th>under_pressure</th>\n",
       "      <th>carry</th>\n",
       "      <th>ball_receipt</th>\n",
       "      <th>interception</th>\n",
       "      <th>counterpress</th>\n",
       "      <th>duel</th>\n",
       "      <th>dribble</th>\n",
       "      <th>50_50</th>\n",
       "      <th>shot</th>\n",
       "      <th>goalkeeper</th>\n",
       "      <th>ball_recovery</th>\n",
       "      <th>foul_committed</th>\n",
       "      <th>foul_won</th>\n",
       "      <th>block</th>\n",
       "      <th>substitution</th>\n",
       "      <th>bad_behaviour</th>\n",
       "    </tr>\n",
       "  </thead>\n",
       "  <tbody>\n",
       "    <tr>\n",
       "      <th>0</th>\n",
       "      <td>04198d50-c681-4522-a809-683dea2e8f18</td>\n",
       "      <td>1</td>\n",
       "      <td>1</td>\n",
       "      <td>2021-09-22 00:00:00.000</td>\n",
       "      <td>0</td>\n",
       "      <td>0</td>\n",
       "      <td>{'id': 35, 'name': 'Starting XI'}</td>\n",
       "      <td>1</td>\n",
       "      <td>{'id': 782, 'name': 'Belgium'}</td>\n",
       "      <td>{'id': 1, 'name': 'Regular Play'}</td>\n",
       "      <td>{'id': 782, 'name': 'Belgium'}</td>\n",
       "      <td>0.000</td>\n",
       "      <td>{'formation': 343, 'lineup': [{'player': {'id': 3509, 'name': 'Thibaut Courtois'}, 'position': {'id': 1, 'name': 'Goalkeeper'}, 'jersey_number': 1}, {'player': {'id': 20005, 'name': 'Toby Alderweireld'}, 'position': {'id': 3, 'name': 'Right Center Back'}, 'jersey_number': 2}, {'player': {'id': 3101, 'name': 'Vincent Kompany'}, 'position': {'id': 4, 'name': 'Center Back'}, 'jersey_number': 4}, {'player': {'id': 3077, 'name': 'Jan Vertonghen'}, 'position': {'id': 5, 'name': 'Left Center Back'}, 'jersey_number': 5}, {'player': {'id': 3176, 'name': 'Thomas Meunier'}, 'position': {'id': 7, 'name': 'Right Wing Back'}, 'jersey_number': 15}, {'player': {'id': 4831, 'name': 'Nacer Chadli'}, 'position': {'id': 8, 'name': 'Left Wing Back'}, 'jersey_number': 22}, {'player': {'id': 2954, 'name': 'Youri Tielemans'}, 'position': {'id': 9, 'name': 'Right Defensive Midfield'}, 'jersey_number': 17}, {'player': {'id': 5642, 'name': 'Axel Witsel'}, 'position': {'id': 11, 'name': 'Left Defensive Midfield'}, 'jersey_number': 6}, {'player': {'id': 3089, 'name': 'Kevin De Bruyne'}, 'position': {'id': 17, 'name': 'Right Wing'}, 'jersey_number': 7}, {'player': {'id': 3621, 'name': 'Eden Hazard'}, 'position': {'id': 21, 'name': 'Left Wing'}, 'jersey_number': 10}, {'player': {'id': 3289, 'name': 'Romelu Lukaku Menama'}, 'position': {'id': 23, 'name': 'Center Forward'}, 'jersey_number': 9}]}</td>\n",
       "      <td>NaN</td>\n",
       "      <td>NaN</td>\n",
       "      <td>NaN</td>\n",
       "      <td>NaN</td>\n",
       "      <td>NaN</td>\n",
       "      <td>NaN</td>\n",
       "      <td>NaN</td>\n",
       "      <td>NaN</td>\n",
       "      <td>NaN</td>\n",
       "      <td>NaN</td>\n",
       "      <td>NaN</td>\n",
       "      <td>NaN</td>\n",
       "      <td>NaN</td>\n",
       "      <td>NaN</td>\n",
       "      <td>NaN</td>\n",
       "      <td>NaN</td>\n",
       "      <td>NaN</td>\n",
       "      <td>NaN</td>\n",
       "      <td>NaN</td>\n",
       "      <td>NaN</td>\n",
       "      <td>NaN</td>\n",
       "    </tr>\n",
       "    <tr>\n",
       "      <th>1</th>\n",
       "      <td>efe191f7-d38f-414d-8950-db48af1bd59b</td>\n",
       "      <td>2</td>\n",
       "      <td>1</td>\n",
       "      <td>2021-09-22 00:00:00.000</td>\n",
       "      <td>0</td>\n",
       "      <td>0</td>\n",
       "      <td>{'id': 35, 'name': 'Starting XI'}</td>\n",
       "      <td>1</td>\n",
       "      <td>{'id': 782, 'name': 'Belgium'}</td>\n",
       "      <td>{'id': 1, 'name': 'Regular Play'}</td>\n",
       "      <td>{'id': 768, 'name': 'England'}</td>\n",
       "      <td>0.000</td>\n",
       "      <td>{'formation': 352, 'lineup': [{'player': {'id': 3468, 'name': 'Jordan Pickford'}, 'position': {'id': 1, 'name': 'Goalkeeper'}, 'jersey_number': 1}, {'player': {'id': 3314, 'name': 'Phil Jones'}, 'position': {'id': 3, 'name': 'Right Center Back'}, 'jersey_number': 16}, {'player': {'id': 3244, 'name': 'John Stones'}, 'position': {'id': 4, 'name': 'Center Back'}, 'jersey_number': 5}, {'player': {'id': 3336, 'name': 'Harry Maguire'}, 'position': {'id': 5, 'name': 'Left Center Back'}, 'jersey_number': 6}, {'player': {'id': 3308, 'name': 'Kieran Trippier'}, 'position': {'id': 7, 'name': 'Right Wing Back'}, 'jersey_number': 12}, {'player': {'id': 3594, 'name': 'Danny Rose'}, 'position': {'id': 8, 'name': 'Left Wing Back'}, 'jersey_number': 3}, {'player': {'id': 10956, 'name': 'Eric Dier'}, 'position': {'id': 10, 'name': 'Center Defensive Midfield'}, 'jersey_number': 4}, {'player': {'id': 3504, 'name': 'Ruben Loftus-Cheek'}, 'position': {'id': 13, 'name': 'Right Center Midfield'}, 'jersey_number': 21}, {'player': {'id': 4597, 'name': 'Fabian Delph'}, 'position': {'id': 15, 'name': 'Left Center Midfield'}, 'jersey_number': 17}, {'player': {'id': 10955, 'name': 'Harry Kane'}, 'position': {'id': 22, 'name': 'Right Center Forward'}, 'jersey_number': 9}, {'player': {'id': 3233, 'name': 'Raheem Shaquille Sterling'}, 'position': {'id': 24, 'name': 'Left Center Forward'}, 'jersey_number': 10}]}</td>\n",
       "      <td>NaN</td>\n",
       "      <td>NaN</td>\n",
       "      <td>NaN</td>\n",
       "      <td>NaN</td>\n",
       "      <td>NaN</td>\n",
       "      <td>NaN</td>\n",
       "      <td>NaN</td>\n",
       "      <td>NaN</td>\n",
       "      <td>NaN</td>\n",
       "      <td>NaN</td>\n",
       "      <td>NaN</td>\n",
       "      <td>NaN</td>\n",
       "      <td>NaN</td>\n",
       "      <td>NaN</td>\n",
       "      <td>NaN</td>\n",
       "      <td>NaN</td>\n",
       "      <td>NaN</td>\n",
       "      <td>NaN</td>\n",
       "      <td>NaN</td>\n",
       "      <td>NaN</td>\n",
       "      <td>NaN</td>\n",
       "    </tr>\n",
       "    <tr>\n",
       "      <th>2</th>\n",
       "      <td>0d585e73-42cc-49ec-902c-d1fed3551f95</td>\n",
       "      <td>3</td>\n",
       "      <td>1</td>\n",
       "      <td>2021-09-22 00:00:00.000</td>\n",
       "      <td>0</td>\n",
       "      <td>0</td>\n",
       "      <td>{'id': 18, 'name': 'Half Start'}</td>\n",
       "      <td>1</td>\n",
       "      <td>{'id': 782, 'name': 'Belgium'}</td>\n",
       "      <td>{'id': 1, 'name': 'Regular Play'}</td>\n",
       "      <td>{'id': 768, 'name': 'England'}</td>\n",
       "      <td>NaN</td>\n",
       "      <td>NaN</td>\n",
       "      <td>[75caf5e3-e038-4d52-b968-0df8bce24a8a]</td>\n",
       "      <td>NaN</td>\n",
       "      <td>NaN</td>\n",
       "      <td>NaN</td>\n",
       "      <td>NaN</td>\n",
       "      <td>NaN</td>\n",
       "      <td>NaN</td>\n",
       "      <td>NaN</td>\n",
       "      <td>NaN</td>\n",
       "      <td>NaN</td>\n",
       "      <td>NaN</td>\n",
       "      <td>NaN</td>\n",
       "      <td>NaN</td>\n",
       "      <td>NaN</td>\n",
       "      <td>NaN</td>\n",
       "      <td>NaN</td>\n",
       "      <td>NaN</td>\n",
       "      <td>NaN</td>\n",
       "      <td>NaN</td>\n",
       "      <td>NaN</td>\n",
       "      <td>NaN</td>\n",
       "    </tr>\n",
       "    <tr>\n",
       "      <th>3</th>\n",
       "      <td>75caf5e3-e038-4d52-b968-0df8bce24a8a</td>\n",
       "      <td>4</td>\n",
       "      <td>1</td>\n",
       "      <td>2021-09-22 00:00:00.000</td>\n",
       "      <td>0</td>\n",
       "      <td>0</td>\n",
       "      <td>{'id': 18, 'name': 'Half Start'}</td>\n",
       "      <td>1</td>\n",
       "      <td>{'id': 782, 'name': 'Belgium'}</td>\n",
       "      <td>{'id': 1, 'name': 'Regular Play'}</td>\n",
       "      <td>{'id': 782, 'name': 'Belgium'}</td>\n",
       "      <td>NaN</td>\n",
       "      <td>NaN</td>\n",
       "      <td>[0d585e73-42cc-49ec-902c-d1fed3551f95]</td>\n",
       "      <td>NaN</td>\n",
       "      <td>NaN</td>\n",
       "      <td>NaN</td>\n",
       "      <td>NaN</td>\n",
       "      <td>NaN</td>\n",
       "      <td>NaN</td>\n",
       "      <td>NaN</td>\n",
       "      <td>NaN</td>\n",
       "      <td>NaN</td>\n",
       "      <td>NaN</td>\n",
       "      <td>NaN</td>\n",
       "      <td>NaN</td>\n",
       "      <td>NaN</td>\n",
       "      <td>NaN</td>\n",
       "      <td>NaN</td>\n",
       "      <td>NaN</td>\n",
       "      <td>NaN</td>\n",
       "      <td>NaN</td>\n",
       "      <td>NaN</td>\n",
       "      <td>NaN</td>\n",
       "    </tr>\n",
       "    <tr>\n",
       "      <th>4</th>\n",
       "      <td>a7ec7898-799e-4e79-bc54-54d4cba812cf</td>\n",
       "      <td>5</td>\n",
       "      <td>1</td>\n",
       "      <td>2021-09-22 00:00:00.533</td>\n",
       "      <td>0</td>\n",
       "      <td>0</td>\n",
       "      <td>{'id': 30, 'name': 'Pass'}</td>\n",
       "      <td>2</td>\n",
       "      <td>{'id': 782, 'name': 'Belgium'}</td>\n",
       "      <td>{'id': 9, 'name': 'From Kick Off'}</td>\n",
       "      <td>{'id': 782, 'name': 'Belgium'}</td>\n",
       "      <td>0.719</td>\n",
       "      <td>NaN</td>\n",
       "      <td>[842270b0-aad5-4088-a739-599d4c40ff66]</td>\n",
       "      <td>{'id': 3289, 'name': 'Romelu Lukaku Menama'}</td>\n",
       "      <td>{'id': 23, 'name': 'Center Forward'}</td>\n",
       "      <td>[61.0, 41.0]</td>\n",
       "      <td>{'recipient': {'id': 5642, 'name': 'Axel Witsel'}, 'length': 10.0, 'angle': 3.1415927, 'height': {'id': 1, 'name': 'Ground Pass'}, 'end_location': [51.0, 41.0], 'type': {'id': 65, 'name': 'Kick Off'}, 'body_part': {'id': 40, 'name': 'Right Foot'}}</td>\n",
       "      <td>NaN</td>\n",
       "      <td>NaN</td>\n",
       "      <td>NaN</td>\n",
       "      <td>NaN</td>\n",
       "      <td>NaN</td>\n",
       "      <td>NaN</td>\n",
       "      <td>NaN</td>\n",
       "      <td>NaN</td>\n",
       "      <td>NaN</td>\n",
       "      <td>NaN</td>\n",
       "      <td>NaN</td>\n",
       "      <td>NaN</td>\n",
       "      <td>NaN</td>\n",
       "      <td>NaN</td>\n",
       "      <td>NaN</td>\n",
       "      <td>NaN</td>\n",
       "    </tr>\n",
       "  </tbody>\n",
       "</table>\n",
       "</div>"
      ],
      "text/plain": [
       "                                     id  index  period  \\\n",
       "0  04198d50-c681-4522-a809-683dea2e8f18  1      1        \n",
       "1  efe191f7-d38f-414d-8950-db48af1bd59b  2      1        \n",
       "2  0d585e73-42cc-49ec-902c-d1fed3551f95  3      1        \n",
       "3  75caf5e3-e038-4d52-b968-0df8bce24a8a  4      1        \n",
       "4  a7ec7898-799e-4e79-bc54-54d4cba812cf  5      1        \n",
       "\n",
       "                timestamp  minute  second                               type  \\\n",
       "0 2021-09-22 00:00:00.000  0       0       {'id': 35, 'name': 'Starting XI'}   \n",
       "1 2021-09-22 00:00:00.000  0       0       {'id': 35, 'name': 'Starting XI'}   \n",
       "2 2021-09-22 00:00:00.000  0       0       {'id': 18, 'name': 'Half Start'}    \n",
       "3 2021-09-22 00:00:00.000  0       0       {'id': 18, 'name': 'Half Start'}    \n",
       "4 2021-09-22 00:00:00.533  0       0       {'id': 30, 'name': 'Pass'}          \n",
       "\n",
       "   possession                 possession_team  \\\n",
       "0  1           {'id': 782, 'name': 'Belgium'}   \n",
       "1  1           {'id': 782, 'name': 'Belgium'}   \n",
       "2  1           {'id': 782, 'name': 'Belgium'}   \n",
       "3  1           {'id': 782, 'name': 'Belgium'}   \n",
       "4  2           {'id': 782, 'name': 'Belgium'}   \n",
       "\n",
       "                         play_pattern                            team  \\\n",
       "0  {'id': 1, 'name': 'Regular Play'}   {'id': 782, 'name': 'Belgium'}   \n",
       "1  {'id': 1, 'name': 'Regular Play'}   {'id': 768, 'name': 'England'}   \n",
       "2  {'id': 1, 'name': 'Regular Play'}   {'id': 768, 'name': 'England'}   \n",
       "3  {'id': 1, 'name': 'Regular Play'}   {'id': 782, 'name': 'Belgium'}   \n",
       "4  {'id': 9, 'name': 'From Kick Off'}  {'id': 782, 'name': 'Belgium'}   \n",
       "\n",
       "   duration  \\\n",
       "0  0.000      \n",
       "1  0.000      \n",
       "2 NaN         \n",
       "3 NaN         \n",
       "4  0.719      \n",
       "\n",
       "                                                                                                                                                                                                                                                                                                                                                                                                                                                                                                                                                                                                                                                                                                                                                                                                                                                                                                                                                                                                                                                                                                                                                                                                                                                                                                                                                                                                                                                     tactics  \\\n",
       "0  {'formation': 343, 'lineup': [{'player': {'id': 3509, 'name': 'Thibaut Courtois'}, 'position': {'id': 1, 'name': 'Goalkeeper'}, 'jersey_number': 1}, {'player': {'id': 20005, 'name': 'Toby Alderweireld'}, 'position': {'id': 3, 'name': 'Right Center Back'}, 'jersey_number': 2}, {'player': {'id': 3101, 'name': 'Vincent Kompany'}, 'position': {'id': 4, 'name': 'Center Back'}, 'jersey_number': 4}, {'player': {'id': 3077, 'name': 'Jan Vertonghen'}, 'position': {'id': 5, 'name': 'Left Center Back'}, 'jersey_number': 5}, {'player': {'id': 3176, 'name': 'Thomas Meunier'}, 'position': {'id': 7, 'name': 'Right Wing Back'}, 'jersey_number': 15}, {'player': {'id': 4831, 'name': 'Nacer Chadli'}, 'position': {'id': 8, 'name': 'Left Wing Back'}, 'jersey_number': 22}, {'player': {'id': 2954, 'name': 'Youri Tielemans'}, 'position': {'id': 9, 'name': 'Right Defensive Midfield'}, 'jersey_number': 17}, {'player': {'id': 5642, 'name': 'Axel Witsel'}, 'position': {'id': 11, 'name': 'Left Defensive Midfield'}, 'jersey_number': 6}, {'player': {'id': 3089, 'name': 'Kevin De Bruyne'}, 'position': {'id': 17, 'name': 'Right Wing'}, 'jersey_number': 7}, {'player': {'id': 3621, 'name': 'Eden Hazard'}, 'position': {'id': 21, 'name': 'Left Wing'}, 'jersey_number': 10}, {'player': {'id': 3289, 'name': 'Romelu Lukaku Menama'}, 'position': {'id': 23, 'name': 'Center Forward'}, 'jersey_number': 9}]}                   \n",
       "1  {'formation': 352, 'lineup': [{'player': {'id': 3468, 'name': 'Jordan Pickford'}, 'position': {'id': 1, 'name': 'Goalkeeper'}, 'jersey_number': 1}, {'player': {'id': 3314, 'name': 'Phil Jones'}, 'position': {'id': 3, 'name': 'Right Center Back'}, 'jersey_number': 16}, {'player': {'id': 3244, 'name': 'John Stones'}, 'position': {'id': 4, 'name': 'Center Back'}, 'jersey_number': 5}, {'player': {'id': 3336, 'name': 'Harry Maguire'}, 'position': {'id': 5, 'name': 'Left Center Back'}, 'jersey_number': 6}, {'player': {'id': 3308, 'name': 'Kieran Trippier'}, 'position': {'id': 7, 'name': 'Right Wing Back'}, 'jersey_number': 12}, {'player': {'id': 3594, 'name': 'Danny Rose'}, 'position': {'id': 8, 'name': 'Left Wing Back'}, 'jersey_number': 3}, {'player': {'id': 10956, 'name': 'Eric Dier'}, 'position': {'id': 10, 'name': 'Center Defensive Midfield'}, 'jersey_number': 4}, {'player': {'id': 3504, 'name': 'Ruben Loftus-Cheek'}, 'position': {'id': 13, 'name': 'Right Center Midfield'}, 'jersey_number': 21}, {'player': {'id': 4597, 'name': 'Fabian Delph'}, 'position': {'id': 15, 'name': 'Left Center Midfield'}, 'jersey_number': 17}, {'player': {'id': 10955, 'name': 'Harry Kane'}, 'position': {'id': 22, 'name': 'Right Center Forward'}, 'jersey_number': 9}, {'player': {'id': 3233, 'name': 'Raheem Shaquille Sterling'}, 'position': {'id': 24, 'name': 'Left Center Forward'}, 'jersey_number': 10}]}   \n",
       "2  NaN                                                                                                                                                                                                                                                                                                                                                                                                                                                                                                                                                                                                                                                                                                                                                                                                                                                                                                                                                                                                                                                                                                                                                                                                                                                                                                                                                                                                                                                         \n",
       "3  NaN                                                                                                                                                                                                                                                                                                                                                                                                                                                                                                                                                                                                                                                                                                                                                                                                                                                                                                                                                                                                                                                                                                                                                                                                                                                                                                                                                                                                                                                         \n",
       "4  NaN                                                                                                                                                                                                                                                                                                                                                                                                                                                                                                                                                                                                                                                                                                                                                                                                                                                                                                                                                                                                                                                                                                                                                                                                                                                                                                                                                                                                                                                         \n",
       "\n",
       "                           related_events  \\\n",
       "0  NaN                                      \n",
       "1  NaN                                      \n",
       "2  [75caf5e3-e038-4d52-b968-0df8bce24a8a]   \n",
       "3  [0d585e73-42cc-49ec-902c-d1fed3551f95]   \n",
       "4  [842270b0-aad5-4088-a739-599d4c40ff66]   \n",
       "\n",
       "                                         player  \\\n",
       "0  NaN                                            \n",
       "1  NaN                                            \n",
       "2  NaN                                            \n",
       "3  NaN                                            \n",
       "4  {'id': 3289, 'name': 'Romelu Lukaku Menama'}   \n",
       "\n",
       "                               position      location  \\\n",
       "0  NaN                                   NaN            \n",
       "1  NaN                                   NaN            \n",
       "2  NaN                                   NaN            \n",
       "3  NaN                                   NaN            \n",
       "4  {'id': 23, 'name': 'Center Forward'}  [61.0, 41.0]   \n",
       "\n",
       "                                                                                                                                                                                                                                                      pass  \\\n",
       "0  NaN                                                                                                                                                                                                                                                       \n",
       "1  NaN                                                                                                                                                                                                                                                       \n",
       "2  NaN                                                                                                                                                                                                                                                       \n",
       "3  NaN                                                                                                                                                                                                                                                       \n",
       "4  {'recipient': {'id': 5642, 'name': 'Axel Witsel'}, 'length': 10.0, 'angle': 3.1415927, 'height': {'id': 1, 'name': 'Ground Pass'}, 'end_location': [51.0, 41.0], 'type': {'id': 65, 'name': 'Kick Off'}, 'body_part': {'id': 40, 'name': 'Right Foot'}}   \n",
       "\n",
       "   under_pressure carry ball_receipt interception  counterpress duel dribble  \\\n",
       "0 NaN              NaN   NaN          NaN         NaN            NaN  NaN      \n",
       "1 NaN              NaN   NaN          NaN         NaN            NaN  NaN      \n",
       "2 NaN              NaN   NaN          NaN         NaN            NaN  NaN      \n",
       "3 NaN              NaN   NaN          NaN         NaN            NaN  NaN      \n",
       "4 NaN              NaN   NaN          NaN         NaN            NaN  NaN      \n",
       "\n",
       "  50_50 shot goalkeeper ball_recovery foul_committed foul_won block  \\\n",
       "0  NaN   NaN  NaN        NaN           NaN            NaN      NaN    \n",
       "1  NaN   NaN  NaN        NaN           NaN            NaN      NaN    \n",
       "2  NaN   NaN  NaN        NaN           NaN            NaN      NaN    \n",
       "3  NaN   NaN  NaN        NaN           NaN            NaN      NaN    \n",
       "4  NaN   NaN  NaN        NaN           NaN            NaN      NaN    \n",
       "\n",
       "  substitution bad_behaviour  \n",
       "0  NaN          NaN           \n",
       "1  NaN          NaN           \n",
       "2  NaN          NaN           \n",
       "3  NaN          NaN           \n",
       "4  NaN          NaN           "
      ]
     },
     "execution_count": 10,
     "metadata": {},
     "output_type": "execute_result"
    }
   ],
   "source": [
    "df.head()"
   ]
  },
  {
   "cell_type": "code",
   "execution_count": null,
   "metadata": {},
   "outputs": [],
   "source": []
  }
 ],
 "metadata": {
  "kernelspec": {
   "display_name": "Python 3",
   "language": "python",
   "name": "python3"
  },
  "language_info": {
   "codemirror_mode": {
    "name": "ipython",
    "version": 3
   },
   "file_extension": ".py",
   "mimetype": "text/x-python",
   "name": "python",
   "nbconvert_exporter": "python",
   "pygments_lexer": "ipython3",
   "version": "3.8.2"
  }
 },
 "nbformat": 4,
 "nbformat_minor": 4
}
