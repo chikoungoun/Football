{
 "cells": [
  {
   "cell_type": "markdown",
   "metadata": {},
   "source": [
    "# Pass Network"
   ]
  },
  {
   "cell_type": "code",
   "execution_count": 1,
   "metadata": {},
   "outputs": [],
   "source": [
    "import json\n",
    "import pandas as pd\n",
    "import matplotlib.pyplot as plt\n",
    "import seaborn as sns\n",
    "from mplsoccer import Pitch\n",
    "%matplotlib inline"
   ]
  },
  {
   "cell_type": "code",
   "execution_count": 2,
   "metadata": {},
   "outputs": [],
   "source": [
    "with open('C:\\\\Users\\\\marwane\\\\Documents\\\\Data Science\\\\events_19769.json',encoding=\"utf-8\") as data:\n",
    "    events = json.load(data)"
   ]
  },
  {
   "cell_type": "code",
   "execution_count": 19,
   "metadata": {},
   "outputs": [],
   "source": [
    "#Contains the lineup of the 2 teams playing\n",
    "lineups = events[0:2]\n",
    "# team lineup\n",
    "team_lineup = lineups[1]\n",
    "#team id\n",
    "team_id = team_lineup['team']['id'] "
   ]
  },
  {
   "cell_type": "code",
   "execution_count": 21,
   "metadata": {},
   "outputs": [],
   "source": [
    "starters = {p['player']['id']: {\"name\":p['player']['name'],\"jersey\":p['jersey_number']}for p in team_lineup['tactics']['lineup']}"
   ]
  },
  {
   "cell_type": "code",
   "execution_count": 22,
   "metadata": {},
   "outputs": [
    {
     "data": {
      "text/plain": [
       "{22027: {'name': 'Anne Moorhouse', 'jersey': 13},\n",
       " 18147: {'name': 'Kate Longhurst', 'jersey': 12},\n",
       " 18151: {'name': 'Gilly Louise Scarlett Flaherty', 'jersey': 5},\n",
       " 18159: {'name': 'Brooke Hendrix', 'jersey': 4},\n",
       " 18156: {'name': 'Claire Lauren Rafferty', 'jersey': 11},\n",
       " 18148: {'name': 'Lucienne Reichardt', 'jersey': 18},\n",
       " 18150: {'name': 'Julia Simic', 'jersey': 10},\n",
       " 18157: {'name': 'Brianna Visalli', 'jersey': 15},\n",
       " 18153: {'name': 'Alisha Lehmann', 'jersey': 7},\n",
       " 18154: {'name': 'Esmee de Graaf', 'jersey': 17},\n",
       " 4653: {'name': 'Jane Ross', 'jersey': 9}}"
      ]
     },
     "execution_count": 22,
     "metadata": {},
     "output_type": "execute_result"
    }
   ],
   "source": [
    "starters"
   ]
  },
  {
   "cell_type": "code",
   "execution_count": null,
   "metadata": {},
   "outputs": [],
   "source": []
  }
 ],
 "metadata": {
  "kernelspec": {
   "display_name": "Python 3",
   "language": "python",
   "name": "python3"
  },
  "language_info": {
   "codemirror_mode": {
    "name": "ipython",
    "version": 3
   },
   "file_extension": ".py",
   "mimetype": "text/x-python",
   "name": "python",
   "nbconvert_exporter": "python",
   "pygments_lexer": "ipython3",
   "version": "3.8.2"
  }
 },
 "nbformat": 4,
 "nbformat_minor": 4
}
