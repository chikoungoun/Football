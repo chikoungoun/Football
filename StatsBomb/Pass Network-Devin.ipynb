{
 "cells": [
  {
   "cell_type": "markdown",
   "metadata": {},
   "source": [
    "# Pass Network"
   ]
  },
  {
   "cell_type": "markdown",
   "metadata": {},
   "source": [
    "Readapting my pass network with inspiration from Devin Peuler : https://github.com/devinpleuler/analytics-handbook"
   ]
  },
  {
   "cell_type": "markdown",
   "metadata": {},
   "source": [
    "credits and kudos to him"
   ]
  },
  {
   "cell_type": "code",
   "execution_count": 1,
   "metadata": {},
   "outputs": [],
   "source": [
    "import json\n",
    "import pandas as pd\n",
    "import numpy as np\n",
    "import matplotlib.pyplot as plt\n",
    "import seaborn as sns\n",
    "from mplsoccer import Pitch\n",
    "%matplotlib inline"
   ]
  },
  {
   "cell_type": "code",
   "execution_count": 2,
   "metadata": {},
   "outputs": [],
   "source": [
    "with open('C:\\\\Users\\\\marwane\\\\Documents\\\\Data Science\\\\events_19769.json',encoding=\"utf-8\") as data:\n",
    "    raw_events = json.load(data)"
   ]
  },
  {
   "cell_type": "code",
   "execution_count": 3,
   "metadata": {},
   "outputs": [],
   "source": [
    "import pprint"
   ]
  },
  {
   "cell_type": "code",
   "execution_count": 4,
   "metadata": {},
   "outputs": [],
   "source": [
    "#Contains the lineup of the 2 teams playing\n",
    "lineups = raw_events[0:2]\n",
    "# team lineup\n",
    "team_lineup = lineups[0]\n",
    "#team id\n",
    "team_id = team_lineup['team']['id'] "
   ]
  },
  {
   "cell_type": "code",
   "execution_count": 5,
   "metadata": {},
   "outputs": [],
   "source": [
    "starters = {p['player']['id']: {\"name\":p['player']['name'],\"jersey\":p['jersey_number']}for p in team_lineup['tactics']['lineup']}"
   ]
  },
  {
   "cell_type": "markdown",
   "metadata": {},
   "source": [
    "Home team starter"
   ]
  },
  {
   "cell_type": "code",
   "execution_count": 6,
   "metadata": {},
   "outputs": [
    {
     "data": {
      "text/plain": [
       "{19419: {'name': 'Marie Hourihan', 'jersey': 1},\n",
       " 19414: {'name': 'Kirsty Barton', 'jersey': 8},\n",
       " 16394: {'name': 'Laura Rafferty', 'jersey': 6},\n",
       " 16395: {'name': 'Victoria Williams', 'jersey': 20},\n",
       " 16377: {'name': 'Sophie Perry-Campbell', 'jersey': 17},\n",
       " 16400: {'name': 'Kayleigh Green', 'jersey': 15},\n",
       " 16397: {'name': 'Chloe Peplow', 'jersey': 12},\n",
       " 16393: {'name': 'Ellie Brazil', 'jersey': 16},\n",
       " 16379: {'name': 'Jodie Brett', 'jersey': 18},\n",
       " 16374: {'name': 'Aileen Whelan', 'jersey': 7},\n",
       " 16378: {'name': 'Iniabasi Anefiok Umotong', 'jersey': 9}}"
      ]
     },
     "execution_count": 6,
     "metadata": {},
     "output_type": "execute_result"
    }
   ],
   "source": [
    "starters"
   ]
  },
  {
   "cell_type": "markdown",
   "metadata": {},
   "source": [
    "Gather all the events by the home team"
   ]
  },
  {
   "cell_type": "code",
   "execution_count": 7,
   "metadata": {},
   "outputs": [],
   "source": [
    "# all the events by the home team\n",
    "events = [e for e in raw_events if e['team']['id'] == team_id]"
   ]
  },
  {
   "cell_type": "markdown",
   "metadata": {},
   "source": [
    "Gather all the passes from the event"
   ]
  },
  {
   "cell_type": "code",
   "execution_count": 8,
   "metadata": {},
   "outputs": [
    {
     "data": {
      "text/plain": [
       "[{'id': 'd16bb5e5-50bc-4cdf-b242-93fd05628eb8',\n",
       "  'index': 5,\n",
       "  'period': 1,\n",
       "  'timestamp': '00:00:00.849',\n",
       "  'minute': 0,\n",
       "  'second': 0,\n",
       "  'type': {'id': 30, 'name': 'Pass'},\n",
       "  'possession': 2,\n",
       "  'possession_team': {'id': 972, 'name': 'West Ham United LFC'},\n",
       "  'play_pattern': {'id': 9, 'name': 'From Kick Off'},\n",
       "  'team': {'id': 972, 'name': 'West Ham United LFC'},\n",
       "  'player': {'id': 4653, 'name': 'Jane Ross'},\n",
       "  'position': {'id': 23, 'name': 'Center Forward'},\n",
       "  'location': [60.0, 40.0],\n",
       "  'duration': 1.3771,\n",
       "  'related_events': ['1ea2ce08-d86f-4a21-a341-8e578300ecdd'],\n",
       "  'pass': {'recipient': {'id': 18148, 'name': 'Lucienne Reichardt'},\n",
       "   'length': 16.643316,\n",
       "   'angle': -2.5702553,\n",
       "   'height': {'id': 1, 'name': 'Ground Pass'},\n",
       "   'end_location': [46.0, 31.0],\n",
       "   'body_part': {'id': 40, 'name': 'Right Foot'},\n",
       "   'type': {'id': 65, 'name': 'Kick Off'}}},\n",
       " {'id': 'f426cba8-b0e3-4540-9040-a461321eb268',\n",
       "  'index': 9,\n",
       "  'period': 1,\n",
       "  'timestamp': '00:00:03.467',\n",
       "  'minute': 0,\n",
       "  'second': 3,\n",
       "  'type': {'id': 30, 'name': 'Pass'},\n",
       "  'possession': 2,\n",
       "  'possession_team': {'id': 972, 'name': 'West Ham United LFC'},\n",
       "  'play_pattern': {'id': 9, 'name': 'From Kick Off'},\n",
       "  'team': {'id': 972, 'name': 'West Ham United LFC'},\n",
       "  'player': {'id': 18148, 'name': 'Lucienne Reichardt'},\n",
       "  'position': {'id': 10, 'name': 'Center Defensive Midfield'},\n",
       "  'location': [47.0, 28.0],\n",
       "  'duration': 2.188844,\n",
       "  'under_pressure': True,\n",
       "  'related_events': ['02213484-bb4a-4335-bb9f-413b16ae1865',\n",
       "   '763181f6-a41b-4900-8235-e822dbe02462'],\n",
       "  'pass': {'recipient': {'id': 18156, 'name': 'Claire Lauren Rafferty'},\n",
       "   'length': 23.537205,\n",
       "   'angle': -1.784857,\n",
       "   'height': {'id': 1, 'name': 'Ground Pass'},\n",
       "   'end_location': [42.0, 5.0],\n",
       "   'body_part': {'id': 40, 'name': 'Right Foot'}}},\n",
       " {'id': 'e31cbf6c-4eb3-4308-843d-fd87ed2cb385',\n",
       "  'index': 13,\n",
       "  'period': 1,\n",
       "  'timestamp': '00:00:06.532',\n",
       "  'minute': 0,\n",
       "  'second': 6,\n",
       "  'type': {'id': 30, 'name': 'Pass'},\n",
       "  'possession': 2,\n",
       "  'possession_team': {'id': 972, 'name': 'West Ham United LFC'},\n",
       "  'play_pattern': {'id': 9, 'name': 'From Kick Off'},\n",
       "  'team': {'id': 972, 'name': 'West Ham United LFC'},\n",
       "  'player': {'id': 18156, 'name': 'Claire Lauren Rafferty'},\n",
       "  'position': {'id': 6, 'name': 'Left Back'},\n",
       "  'location': [41.0, 3.0],\n",
       "  'duration': 0.2268,\n",
       "  'related_events': ['2bc137b8-9eba-4d0f-8557-5741919035f4',\n",
       "   '3ac53bc0-16e6-4b2f-a2e5-35d5e012a84a'],\n",
       "  'pass': {'recipient': {'id': 18154, 'name': 'Esmee de Graaf'},\n",
       "   'length': 2.0,\n",
       "   'angle': 0.0,\n",
       "   'height': {'id': 3, 'name': 'High Pass'},\n",
       "   'end_location': [43.0, 3.0],\n",
       "   'outcome': {'id': 9, 'name': 'Incomplete'},\n",
       "   'body_part': {'id': 38, 'name': 'Left Foot'}}},\n",
       " {'id': 'd06a1487-17d9-475c-8c1a-7f065b96960c',\n",
       "  'index': 16,\n",
       "  'period': 1,\n",
       "  'timestamp': '00:00:21.173',\n",
       "  'minute': 0,\n",
       "  'second': 21,\n",
       "  'type': {'id': 30, 'name': 'Pass'},\n",
       "  'possession': 3,\n",
       "  'possession_team': {'id': 972, 'name': 'West Ham United LFC'},\n",
       "  'play_pattern': {'id': 4, 'name': 'From Throw In'},\n",
       "  'team': {'id': 972, 'name': 'West Ham United LFC'},\n",
       "  'player': {'id': 18156, 'name': 'Claire Lauren Rafferty'},\n",
       "  'position': {'id': 6, 'name': 'Left Back'},\n",
       "  'location': [52.0, 1.0],\n",
       "  'duration': 1.000514,\n",
       "  'related_events': ['7cf15b6c-b21d-4e33-9da2-3d8c60de6ac2'],\n",
       "  'pass': {'recipient': {'id': 4653, 'name': 'Jane Ross'},\n",
       "   'length': 17.888544,\n",
       "   'angle': 0.4636476,\n",
       "   'height': {'id': 2, 'name': 'Low Pass'},\n",
       "   'end_location': [68.0, 9.0],\n",
       "   'type': {'id': 67, 'name': 'Throw-in'}}},\n",
       " {'id': '599d5cbf-42a3-4492-8a05-8029cb9f03d2',\n",
       "  'index': 19,\n",
       "  'period': 1,\n",
       "  'timestamp': '00:00:22.470',\n",
       "  'minute': 0,\n",
       "  'second': 22,\n",
       "  'type': {'id': 30, 'name': 'Pass'},\n",
       "  'possession': 3,\n",
       "  'possession_team': {'id': 972, 'name': 'West Ham United LFC'},\n",
       "  'play_pattern': {'id': 4, 'name': 'From Throw In'},\n",
       "  'team': {'id': 972, 'name': 'West Ham United LFC'},\n",
       "  'player': {'id': 4653, 'name': 'Jane Ross'},\n",
       "  'position': {'id': 23, 'name': 'Center Forward'},\n",
       "  'location': [68.0, 9.0],\n",
       "  'duration': 0.9573,\n",
       "  'related_events': ['46340ef2-e7a8-40c5-8f44-9c4361811dfb'],\n",
       "  'pass': {'recipient': {'id': 18154, 'name': 'Esmee de Graaf'},\n",
       "   'length': 6.3245554,\n",
       "   'angle': -1.2490457,\n",
       "   'height': {'id': 2, 'name': 'Low Pass'},\n",
       "   'end_location': [70.0, 3.0],\n",
       "   'body_part': {'id': 40, 'name': 'Right Foot'}}}]"
      ]
     },
     "execution_count": 8,
     "metadata": {},
     "output_type": "execute_result"
    }
   ],
   "source": [
    "passes = [e for e in raw_events if 'pass' in e.keys()]\n",
    "passes[:5]"
   ]
  },
  {
   "cell_type": "markdown",
   "metadata": {},
   "source": [
    "**Gather the Pass mapping between the players**"
   ]
  },
  {
   "cell_type": "code",
   "execution_count": 9,
   "metadata": {
    "scrolled": false
   },
   "outputs": [],
   "source": [
    "\"\"\" Uncomment the # to better understand the links\"\"\"\n",
    "matrix = {}\n",
    "c = 0\n",
    "for p in passes:\n",
    "    if 'outcome' not in p['pass'].keys():\n",
    "        #print(p['index'])\n",
    "        passer_id = p['player']['id']\n",
    "        recipient_id = p['pass']['recipient']['id']\n",
    "        \n",
    "        a,b = sorted([passer_id,recipient_id])\n",
    "        \n",
    "        if a not in matrix.keys():\n",
    "            matrix[a] = {}\n",
    "            \n",
    "            \n",
    "        #print(\"\\n\"+str(c)+\" Passer\")\n",
    "        #print(a)\n",
    "        #print(matrix)   \n",
    "            \n",
    "        if b not in matrix[a].keys():\n",
    "            matrix[a][b] = 0\n",
    "            \n",
    "        #print(\"\\n\"+\"\\t\"+str(c)+\" Recipient\")\n",
    "        #print(\"\\t\",b)\n",
    "        #print(\"\\t\"+str(matrix))        \n",
    "            \n",
    "        matrix[a][b] += 1\n",
    "        \n",
    "        #print(\"\\n\"+\"\\t\"+str(c)+\" Pass Count\")\n",
    "        #print(\"\\t\",matrix[a][b])\n",
    "        #print(\"\\t\"+str(matrix))\n",
    "                       \n",
    "     "
   ]
  },
  {
   "cell_type": "code",
   "execution_count": 10,
   "metadata": {},
   "outputs": [
    {
     "name": "stdout",
     "output_type": "stream",
     "text": [
      "0\n"
     ]
    }
   ],
   "source": [
    "print(c)"
   ]
  },
  {
   "cell_type": "code",
   "execution_count": 11,
   "metadata": {},
   "outputs": [
    {
     "data": {
      "text/plain": [
       "[(4653,\n",
       "  {18148: 3,\n",
       "   18156: 8,\n",
       "   18154: 5,\n",
       "   18157: 5,\n",
       "   18159: 5,\n",
       "   18151: 2,\n",
       "   22027: 1,\n",
       "   18153: 3,\n",
       "   18150: 8,\n",
       "   18147: 9,\n",
       "   19896: 2}),\n",
       " (18148,\n",
       "  {18156: 4, 18151: 6, 22027: 5, 18154: 1, 18153: 1, 18150: 5, 18159: 1}),\n",
       " (18154, {18157: 3, 18156: 9, 18159: 1, 22027: 1}),\n",
       " (16394, {19419: 9, 19414: 23, 16397: 10, 16395: 8, 16400: 8}),\n",
       " (16395, {19419: 10, 16397: 11, 19414: 7, 16400: 3, 20034: 2})]"
      ]
     },
     "execution_count": 11,
     "metadata": {},
     "output_type": "execute_result"
    }
   ],
   "source": [
    "# Print 5 first items from the dictionary\n",
    "list(matrix.items())[:5]"
   ]
  },
  {
   "cell_type": "markdown",
   "metadata": {},
   "source": [
    "**Gather the average positions of each player of the home team**"
   ]
  },
  {
   "cell_type": "code",
   "execution_count": 12,
   "metadata": {},
   "outputs": [],
   "source": [
    "positions = {}\n",
    "for e in events:\n",
    "    # players from the home team\n",
    "    if 'player' in e.keys():\n",
    "        player_id = e['player']['id']\n",
    "        if player_id not in positions.keys():\n",
    "            positions[player_id] = {\"x\":[],\"y\":[]}\n",
    "            \n",
    "        if 'location' in e.keys():\n",
    "            positions[player_id]['x'].append(e['location'][0])\n",
    "            positions[player_id]['y'].append(80-e['location'][1])\n",
    "        \n",
    "avg_positions = {k:[np.mean(v['x']),np.mean(v['y'])] for k, v in positions.items() if k in starters.keys() }    "
   ]
  },
  {
   "cell_type": "code",
   "execution_count": 13,
   "metadata": {},
   "outputs": [
    {
     "data": {
      "text/plain": [
       "{16378: [81.11111111111111, 42.05925925925926],\n",
       " 16393: [70.45806451612903, 15.935483870967742],\n",
       " 16400: [67.44221105527639, 27.839195979899497],\n",
       " 16397: [52.201388888888886, 38.229166666666664],\n",
       " 16394: [37.258278145695364, 26.867549668874172],\n",
       " 16374: [67.2751677852349, 57.49664429530201],\n",
       " 19419: [8.333333333333334, 38.23076923076923],\n",
       " 16395: [37.99305555555556, 55.4375],\n",
       " 16379: [73.58904109589041, 48.21917808219178],\n",
       " 19414: [46.60427807486631, 8.759358288770054],\n",
       " 16377: [54.29365079365079, 67.0079365079365]}"
      ]
     },
     "execution_count": 13,
     "metadata": {},
     "output_type": "execute_result"
    }
   ],
   "source": [
    "avg_positions"
   ]
  },
  {
   "cell_type": "code",
   "execution_count": 16,
   "metadata": {},
   "outputs": [],
   "source": [
    "lines = []\n",
    "weights = []\n",
    "\n",
    "for k,v in matrix.items():\n",
    "    if k in starters.keys():\n",
    "        origin = avg_positions[k]\n",
    "        for k_,v_ in matrix[k].items():\n",
    "            if k_ in starters.keys():\n",
    "                dest = avg_positions[k_]\n",
    "                lines.append([*origin,*dest])\n",
    "                weights.append(v_)"
   ]
  },
  {
   "cell_type": "code",
   "execution_count": 20,
   "metadata": {},
   "outputs": [
    {
     "data": {
      "text/plain": [
       "[[37.258278145695364,\n",
       "  26.867549668874172,\n",
       "  8.333333333333334,\n",
       "  38.23076923076923],\n",
       " [37.258278145695364,\n",
       "  26.867549668874172,\n",
       "  46.60427807486631,\n",
       "  8.759358288770054],\n",
       " [37.258278145695364,\n",
       "  26.867549668874172,\n",
       "  52.201388888888886,\n",
       "  38.229166666666664]]"
      ]
     },
     "execution_count": 20,
     "metadata": {},
     "output_type": "execute_result"
    }
   ],
   "source": [
    "lines[:3]"
   ]
  },
  {
   "cell_type": "code",
   "execution_count": 24,
   "metadata": {},
   "outputs": [
    {
     "data": {
      "text/plain": [
       "[9, 23, 10]"
      ]
     },
     "execution_count": 24,
     "metadata": {},
     "output_type": "execute_result"
    }
   ],
   "source": [
    "weights[:3]"
   ]
  },
  {
   "cell_type": "code",
   "execution_count": null,
   "metadata": {},
   "outputs": [],
   "source": []
  }
 ],
 "metadata": {
  "kernelspec": {
   "display_name": "Python 3",
   "language": "python",
   "name": "python3"
  },
  "language_info": {
   "codemirror_mode": {
    "name": "ipython",
    "version": 3
   },
   "file_extension": ".py",
   "mimetype": "text/x-python",
   "name": "python",
   "nbconvert_exporter": "python",
   "pygments_lexer": "ipython3",
   "version": "3.8.2"
  }
 },
 "nbformat": 4,
 "nbformat_minor": 4
}
