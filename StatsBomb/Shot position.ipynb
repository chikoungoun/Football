{
 "cells": [
  {
   "cell_type": "code",
   "execution_count": 1,
   "metadata": {},
   "outputs": [],
   "source": [
    "import pandas as pd"
   ]
  },
  {
   "cell_type": "code",
   "execution_count": 2,
   "metadata": {},
   "outputs": [],
   "source": [
    "import json"
   ]
  },
  {
   "cell_type": "markdown",
   "metadata": {},
   "source": [
    "**Tu choisis ton json**"
   ]
  },
  {
   "cell_type": "code",
   "execution_count": 3,
   "metadata": {},
   "outputs": [],
   "source": [
    "with open('C:\\\\Users\\\\marwane\\\\Documents\\\\Data Science\\\\events_19769.json',encoding=\"utf-8\") as data:\n",
    "    events = json.load(data)"
   ]
  },
  {
   "cell_type": "code",
   "execution_count": 4,
   "metadata": {},
   "outputs": [],
   "source": [
    "import pprint"
   ]
  },
  {
   "cell_type": "markdown",
   "metadata": {},
   "source": [
    "**Fonction d'extraction des shots on target**"
   ]
  },
  {
   "cell_type": "code",
   "execution_count": 5,
   "metadata": {},
   "outputs": [],
   "source": [
    "def shots_on_target(file):\n",
    "    #isolate the shots events\n",
    "    shots = []\n",
    "    for i,val in enumerate(file):\n",
    "        if file[i]['type']['name'] == 'Shot':\n",
    "            shots.append(events[i])\n",
    "            \n",
    "    #Retrieve the shots on target\n",
    "    c = 0\n",
    "    shots_on_T = []\n",
    "    for i,val in enumerate(shots):\n",
    "        if (shots[i]['shot']['outcome']['name'] != 'Off T') and (shots[i]['shot']['outcome']['name'] != \"Saved Off T\") and (shots[i]['shot']['outcome']['name'] != \"Wayward\"):\n",
    "            shots_on_T.append(shots[i])\n",
    "            c = c + 1\n",
    "                \n",
    "    return shots_on_T"
   ]
  },
  {
   "cell_type": "markdown",
   "metadata": {},
   "source": [
    "**Rassembler tous les events avec Shot on Target**"
   ]
  },
  {
   "cell_type": "code",
   "execution_count": 6,
   "metadata": {},
   "outputs": [],
   "source": [
    "sot = shots_on_target(events)"
   ]
  },
  {
   "cell_type": "code",
   "execution_count": 7,
   "metadata": {},
   "outputs": [
    {
     "data": {
      "text/plain": [
       "15"
      ]
     },
     "execution_count": 7,
     "metadata": {},
     "output_type": "execute_result"
    }
   ],
   "source": [
    "len(sot)"
   ]
  },
  {
   "cell_type": "code",
   "execution_count": 15,
   "metadata": {
    "scrolled": false
   },
   "outputs": [],
   "source": [
    "dfs = []\n",
    "\n",
    "\n",
    "for i,val in enumerate(sot):\n",
    "    # Reinitialisation après un loop de i\n",
    "    indexes = []\n",
    "    x = []\n",
    "    y = []\n",
    "    player = []\n",
    "    position = []\n",
    "    teammate = []\n",
    "    #df = pd.Dataframe()\n",
    "    \n",
    "    #print('\\n index : ',sot[i]['index'],\" | len : \",len(sot[i]['shot']['freeze_frame']),'\\n')\n",
    "    \n",
    "    \n",
    "    for j,val2 in enumerate(sot[i]['shot']['freeze_frame']):\n",
    "        \n",
    "        indexes.append(sot[i]['index'])\n",
    "        #print(\"X : \",sot[i]['shot']['freeze_frame'][j]['location'][0])\n",
    "        x.append(sot[i]['shot']['freeze_frame'][j]['location'][0])\n",
    "        \n",
    "        #print(\"Y : \",sot[i]['shot']['freeze_frame'][j]['location'][1])\n",
    "        y.append(sot[i]['shot']['freeze_frame'][j]['location'][1])\n",
    "        \n",
    "        #print(sot[i]['shot']['freeze_frame'][j]['player']['name'])\n",
    "        player.append(sot[i]['shot']['freeze_frame'][j]['player']['name'])\n",
    "        \n",
    "        #print(sot[i]['shot']['freeze_frame'][j]['position']['name'])\n",
    "        position.append(sot[i]['shot']['freeze_frame'][j]['position']['name'])\n",
    "        \n",
    "        #print(sot[i]['shot']['freeze_frame'][j]['teammate'])\n",
    "        teammate.append(sot[i]['shot']['freeze_frame'][j]['teammate'])\n",
    "        \n",
    "    df = pd.DataFrame({'Index':indexes,'X':x,'Y':y,'Player':player,'Position':position,'team mate':teammate})\n",
    "    dfs.append(df)\n",
    "    \n",
    "    "
   ]
  },
  {
   "cell_type": "markdown",
   "metadata": {},
   "source": [
    "**Parcourir une liste de 15 Dataframes et afficher la longueur de chaque df**"
   ]
  },
  {
   "cell_type": "code",
   "execution_count": 16,
   "metadata": {},
   "outputs": [
    {
     "name": "stdout",
     "output_type": "stream",
     "text": [
      "17\n",
      "7\n",
      "16\n",
      "10\n",
      "9\n",
      "16\n",
      "12\n",
      "17\n",
      "13\n",
      "8\n",
      "7\n",
      "9\n",
      "5\n",
      "6\n",
      "10\n"
     ]
    }
   ],
   "source": [
    "for i in dfs:\n",
    "    print(len(i))"
   ]
  },
  {
   "cell_type": "code",
   "execution_count": 18,
   "metadata": {},
   "outputs": [
    {
     "data": {
      "text/html": [
       "<div>\n",
       "<style scoped>\n",
       "    .dataframe tbody tr th:only-of-type {\n",
       "        vertical-align: middle;\n",
       "    }\n",
       "\n",
       "    .dataframe tbody tr th {\n",
       "        vertical-align: top;\n",
       "    }\n",
       "\n",
       "    .dataframe thead th {\n",
       "        text-align: right;\n",
       "    }\n",
       "</style>\n",
       "<table border=\"1\" class=\"dataframe\">\n",
       "  <thead>\n",
       "    <tr style=\"text-align: right;\">\n",
       "      <th></th>\n",
       "      <th>Index</th>\n",
       "      <th>X</th>\n",
       "      <th>Y</th>\n",
       "      <th>Player</th>\n",
       "      <th>Position</th>\n",
       "      <th>team mate</th>\n",
       "    </tr>\n",
       "  </thead>\n",
       "  <tbody>\n",
       "    <tr>\n",
       "      <th>0</th>\n",
       "      <td>1077</td>\n",
       "      <td>110.0</td>\n",
       "      <td>44.0</td>\n",
       "      <td>Iniabasi Anefiok Umotong</td>\n",
       "      <td>Center Forward</td>\n",
       "      <td>True</td>\n",
       "    </tr>\n",
       "    <tr>\n",
       "      <th>1</th>\n",
       "      <td>1077</td>\n",
       "      <td>107.0</td>\n",
       "      <td>41.0</td>\n",
       "      <td>Aileen Whelan</td>\n",
       "      <td>Left Wing</td>\n",
       "      <td>True</td>\n",
       "    </tr>\n",
       "    <tr>\n",
       "      <th>2</th>\n",
       "      <td>1077</td>\n",
       "      <td>106.0</td>\n",
       "      <td>43.0</td>\n",
       "      <td>Ellie Brazil</td>\n",
       "      <td>Right Wing</td>\n",
       "      <td>True</td>\n",
       "    </tr>\n",
       "    <tr>\n",
       "      <th>3</th>\n",
       "      <td>1077</td>\n",
       "      <td>108.0</td>\n",
       "      <td>46.0</td>\n",
       "      <td>Esmee de Graaf</td>\n",
       "      <td>Left Wing</td>\n",
       "      <td>False</td>\n",
       "    </tr>\n",
       "    <tr>\n",
       "      <th>4</th>\n",
       "      <td>1077</td>\n",
       "      <td>105.0</td>\n",
       "      <td>35.0</td>\n",
       "      <td>Julia Simic</td>\n",
       "      <td>Right Center Midfield</td>\n",
       "      <td>False</td>\n",
       "    </tr>\n",
       "    <tr>\n",
       "      <th>5</th>\n",
       "      <td>1077</td>\n",
       "      <td>105.0</td>\n",
       "      <td>38.0</td>\n",
       "      <td>Kate Longhurst</td>\n",
       "      <td>Right Back</td>\n",
       "      <td>False</td>\n",
       "    </tr>\n",
       "    <tr>\n",
       "      <th>6</th>\n",
       "      <td>1077</td>\n",
       "      <td>105.0</td>\n",
       "      <td>48.0</td>\n",
       "      <td>Brianna Visalli</td>\n",
       "      <td>Left Center Midfield</td>\n",
       "      <td>False</td>\n",
       "    </tr>\n",
       "    <tr>\n",
       "      <th>7</th>\n",
       "      <td>1077</td>\n",
       "      <td>113.0</td>\n",
       "      <td>38.0</td>\n",
       "      <td>Gilly Louise Scarlett Flaherty</td>\n",
       "      <td>Right Center Back</td>\n",
       "      <td>False</td>\n",
       "    </tr>\n",
       "    <tr>\n",
       "      <th>8</th>\n",
       "      <td>1077</td>\n",
       "      <td>120.0</td>\n",
       "      <td>41.0</td>\n",
       "      <td>Anne Moorhouse</td>\n",
       "      <td>Goalkeeper</td>\n",
       "      <td>False</td>\n",
       "    </tr>\n",
       "    <tr>\n",
       "      <th>9</th>\n",
       "      <td>1077</td>\n",
       "      <td>110.0</td>\n",
       "      <td>42.0</td>\n",
       "      <td>Brooke Hendrix</td>\n",
       "      <td>Left Center Back</td>\n",
       "      <td>False</td>\n",
       "    </tr>\n",
       "  </tbody>\n",
       "</table>\n",
       "</div>"
      ],
      "text/plain": [
       "   Index      X     Y                          Player               Position  \\\n",
       "0   1077  110.0  44.0        Iniabasi Anefiok Umotong         Center Forward   \n",
       "1   1077  107.0  41.0                   Aileen Whelan              Left Wing   \n",
       "2   1077  106.0  43.0                    Ellie Brazil             Right Wing   \n",
       "3   1077  108.0  46.0                  Esmee de Graaf              Left Wing   \n",
       "4   1077  105.0  35.0                     Julia Simic  Right Center Midfield   \n",
       "5   1077  105.0  38.0                  Kate Longhurst             Right Back   \n",
       "6   1077  105.0  48.0                 Brianna Visalli   Left Center Midfield   \n",
       "7   1077  113.0  38.0  Gilly Louise Scarlett Flaherty      Right Center Back   \n",
       "8   1077  120.0  41.0                  Anne Moorhouse             Goalkeeper   \n",
       "9   1077  110.0  42.0                  Brooke Hendrix       Left Center Back   \n",
       "\n",
       "   team mate  \n",
       "0       True  \n",
       "1       True  \n",
       "2       True  \n",
       "3      False  \n",
       "4      False  \n",
       "5      False  \n",
       "6      False  \n",
       "7      False  \n",
       "8      False  \n",
       "9      False  "
      ]
     },
     "execution_count": 18,
     "metadata": {},
     "output_type": "execute_result"
    }
   ],
   "source": [
    "dfs[3]"
   ]
  },
  {
   "cell_type": "code",
   "execution_count": null,
   "metadata": {},
   "outputs": [],
   "source": []
  }
 ],
 "metadata": {
  "kernelspec": {
   "display_name": "Python 3",
   "language": "python",
   "name": "python3"
  },
  "language_info": {
   "codemirror_mode": {
    "name": "ipython",
    "version": 3
   },
   "file_extension": ".py",
   "mimetype": "text/x-python",
   "name": "python",
   "nbconvert_exporter": "python",
   "pygments_lexer": "ipython3",
   "version": "3.8.2"
  }
 },
 "nbformat": 4,
 "nbformat_minor": 4
}
