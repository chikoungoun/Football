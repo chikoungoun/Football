{
 "cells": [
  {
   "cell_type": "markdown",
   "metadata": {},
   "source": [
    "# Pass Network"
   ]
  },
  {
   "cell_type": "code",
   "execution_count": 1,
   "metadata": {},
   "outputs": [],
   "source": [
    "import json\n",
    "import pandas as pd\n",
    "import matplotlib.pyplot as plt\n",
    "import seaborn as sns\n",
    "from mplsoccer import Pitch\n",
    "%matplotlib inline"
   ]
  },
  {
   "cell_type": "code",
   "execution_count": 2,
   "metadata": {},
   "outputs": [],
   "source": [
    "with open('C:\\\\Users\\\\marwane\\\\Documents\\\\Data Science\\\\events_19769.json',encoding=\"utf-8\") as data:\n",
    "    events = json.load(data)"
   ]
  },
  {
   "cell_type": "code",
   "execution_count": 3,
   "metadata": {},
   "outputs": [],
   "source": [
    "import pprint"
   ]
  },
  {
   "cell_type": "code",
   "execution_count": 8,
   "metadata": {},
   "outputs": [],
   "source": [
    "def lineup(file):     \n",
    "    \n",
    "    players = []\n",
    "\n",
    "    for i in file:        \n",
    "        players.append(i['player']['name'])\n",
    "       \n",
    "    \n",
    "    return players"
   ]
  },
  {
   "cell_type": "code",
   "execution_count": 9,
   "metadata": {},
   "outputs": [],
   "source": [
    "lineup = lineup(events[1]['tactics']['lineup'])"
   ]
  },
  {
   "cell_type": "code",
   "execution_count": 10,
   "metadata": {},
   "outputs": [
    {
     "data": {
      "text/plain": [
       "['Anne Moorhouse',\n",
       " 'Kate Longhurst',\n",
       " 'Gilly Louise Scarlett Flaherty',\n",
       " 'Brooke Hendrix',\n",
       " 'Claire Lauren Rafferty',\n",
       " 'Lucienne Reichardt',\n",
       " 'Julia Simic',\n",
       " 'Brianna Visalli',\n",
       " 'Alisha Lehmann',\n",
       " 'Esmee de Graaf',\n",
       " 'Jane Ross']"
      ]
     },
     "execution_count": 10,
     "metadata": {},
     "output_type": "execute_result"
    }
   ],
   "source": [
    "lineup"
   ]
  },
  {
   "cell_type": "code",
   "execution_count": 11,
   "metadata": {},
   "outputs": [
    {
     "data": {
      "text/plain": [
       "{'id': 'ecf61eb6-37e5-41da-842b-3a3d0d22bfec',\n",
       " 'index': 3,\n",
       " 'period': 1,\n",
       " 'timestamp': '00:00:00.000',\n",
       " 'minute': 0,\n",
       " 'second': 0,\n",
       " 'type': {'id': 18, 'name': 'Half Start'},\n",
       " 'possession': 1,\n",
       " 'possession_team': {'id': 965, 'name': 'Brighton & Hove Albion WFC'},\n",
       " 'play_pattern': {'id': 1, 'name': 'Regular Play'},\n",
       " 'team': {'id': 965, 'name': 'Brighton & Hove Albion WFC'},\n",
       " 'duration': 0.0,\n",
       " 'related_events': ['6a85f892-4648-4540-91b7-1d0aae2d5cce']}"
      ]
     },
     "execution_count": 11,
     "metadata": {},
     "output_type": "execute_result"
    }
   ],
   "source": [
    "events[2]"
   ]
  },
  {
   "cell_type": "code",
   "execution_count": 12,
   "metadata": {},
   "outputs": [
    {
     "data": {
      "text/plain": [
       "855"
      ]
     },
     "execution_count": 12,
     "metadata": {},
     "output_type": "execute_result"
    }
   ],
   "source": [
    "passes = []\n",
    "c = 0\n",
    "for i in events:\n",
    "    if 'pass' in i.keys():\n",
    "        passes.append(i)\n",
    "        c=c+1\n",
    "\n",
    "c"
   ]
  },
  {
   "cell_type": "code",
   "execution_count": 13,
   "metadata": {},
   "outputs": [
    {
     "data": {
      "text/plain": [
       "400"
      ]
     },
     "execution_count": 13,
     "metadata": {},
     "output_type": "execute_result"
    }
   ],
   "source": [
    "successful_passes = []\n",
    "c = 0\n",
    "for i in passes:\n",
    "    if ('recipient' in i['pass'].keys()) and (i['team']['id'] == 965):\n",
    "        successful_passes.append(i)\n",
    "        c = c + 1\n",
    "        \n",
    "c"
   ]
  },
  {
   "cell_type": "markdown",
   "metadata": {},
   "source": [
    "### Pass connection dataframe"
   ]
  },
  {
   "cell_type": "code",
   "execution_count": 14,
   "metadata": {},
   "outputs": [],
   "source": [
    "players = []\n",
    "x_starts = []\n",
    "y_starts = []\n",
    "recipients = []\n",
    "x_ends = []\n",
    "y_ends = []\n",
    "\n",
    "for i in successful_passes:\n",
    "    players.append(i['player']['name'])\n",
    "    x_starts.append(i['location'][0])\n",
    "    y_starts.append(i['location'][1])\n",
    "    recipients.append(i['pass']['recipient']['name'])\n",
    "    x_ends.append(i['pass']['end_location'][0])\n",
    "    y_ends.append(i['pass']['end_location'][1])\n",
    "    "
   ]
  },
  {
   "cell_type": "code",
   "execution_count": 15,
   "metadata": {},
   "outputs": [],
   "source": [
    "network = {'Player':players,'X start':x_starts,'Y start':y_starts,'Recipient':recipients,'X end':x_ends,'Y end':y_ends}\n",
    "    "
   ]
  },
  {
   "cell_type": "code",
   "execution_count": 16,
   "metadata": {},
   "outputs": [],
   "source": [
    "df = pd.DataFrame(network)"
   ]
  },
  {
   "cell_type": "code",
   "execution_count": 17,
   "metadata": {},
   "outputs": [
    {
     "data": {
      "text/html": [
       "<div>\n",
       "<style scoped>\n",
       "    .dataframe tbody tr th:only-of-type {\n",
       "        vertical-align: middle;\n",
       "    }\n",
       "\n",
       "    .dataframe tbody tr th {\n",
       "        vertical-align: top;\n",
       "    }\n",
       "\n",
       "    .dataframe thead th {\n",
       "        text-align: right;\n",
       "    }\n",
       "</style>\n",
       "<table border=\"1\" class=\"dataframe\">\n",
       "  <thead>\n",
       "    <tr style=\"text-align: right;\">\n",
       "      <th></th>\n",
       "      <th>Player</th>\n",
       "      <th>X start</th>\n",
       "      <th>Y start</th>\n",
       "      <th>Recipient</th>\n",
       "      <th>X end</th>\n",
       "      <th>Y end</th>\n",
       "    </tr>\n",
       "  </thead>\n",
       "  <tbody>\n",
       "    <tr>\n",
       "      <th>0</th>\n",
       "      <td>Laura Rafferty</td>\n",
       "      <td>35.0</td>\n",
       "      <td>60.0</td>\n",
       "      <td>Marie Hourihan</td>\n",
       "      <td>14.0</td>\n",
       "      <td>50.0</td>\n",
       "    </tr>\n",
       "    <tr>\n",
       "      <th>1</th>\n",
       "      <td>Marie Hourihan</td>\n",
       "      <td>16.0</td>\n",
       "      <td>50.0</td>\n",
       "      <td>Victoria Williams</td>\n",
       "      <td>22.0</td>\n",
       "      <td>17.0</td>\n",
       "    </tr>\n",
       "    <tr>\n",
       "      <th>2</th>\n",
       "      <td>Victoria Williams</td>\n",
       "      <td>33.0</td>\n",
       "      <td>18.0</td>\n",
       "      <td>Chloe Peplow</td>\n",
       "      <td>37.0</td>\n",
       "      <td>27.0</td>\n",
       "    </tr>\n",
       "    <tr>\n",
       "      <th>3</th>\n",
       "      <td>Chloe Peplow</td>\n",
       "      <td>37.0</td>\n",
       "      <td>27.0</td>\n",
       "      <td>Victoria Williams</td>\n",
       "      <td>30.0</td>\n",
       "      <td>19.0</td>\n",
       "    </tr>\n",
       "    <tr>\n",
       "      <th>4</th>\n",
       "      <td>Victoria Williams</td>\n",
       "      <td>31.0</td>\n",
       "      <td>17.0</td>\n",
       "      <td>Iniabasi Anefiok Umotong</td>\n",
       "      <td>68.0</td>\n",
       "      <td>19.0</td>\n",
       "    </tr>\n",
       "    <tr>\n",
       "      <th>...</th>\n",
       "      <td>...</td>\n",
       "      <td>...</td>\n",
       "      <td>...</td>\n",
       "      <td>...</td>\n",
       "      <td>...</td>\n",
       "      <td>...</td>\n",
       "    </tr>\n",
       "    <tr>\n",
       "      <th>395</th>\n",
       "      <td>Kirsty Barton</td>\n",
       "      <td>49.0</td>\n",
       "      <td>80.0</td>\n",
       "      <td>Kayleigh Green</td>\n",
       "      <td>81.0</td>\n",
       "      <td>73.0</td>\n",
       "    </tr>\n",
       "    <tr>\n",
       "      <th>396</th>\n",
       "      <td>Ellie Brazil</td>\n",
       "      <td>65.0</td>\n",
       "      <td>75.0</td>\n",
       "      <td>Laura Rafferty</td>\n",
       "      <td>50.0</td>\n",
       "      <td>67.0</td>\n",
       "    </tr>\n",
       "    <tr>\n",
       "      <th>397</th>\n",
       "      <td>Marie Hourihan</td>\n",
       "      <td>6.0</td>\n",
       "      <td>36.0</td>\n",
       "      <td>Kirsty Barton</td>\n",
       "      <td>39.0</td>\n",
       "      <td>63.0</td>\n",
       "    </tr>\n",
       "    <tr>\n",
       "      <th>398</th>\n",
       "      <td>Danielle Buet</td>\n",
       "      <td>2.0</td>\n",
       "      <td>71.0</td>\n",
       "      <td>Ellie Brazil</td>\n",
       "      <td>51.0</td>\n",
       "      <td>71.0</td>\n",
       "    </tr>\n",
       "    <tr>\n",
       "      <th>399</th>\n",
       "      <td>Chloe Peplow</td>\n",
       "      <td>21.0</td>\n",
       "      <td>58.0</td>\n",
       "      <td>Aileen Whelan</td>\n",
       "      <td>35.0</td>\n",
       "      <td>67.0</td>\n",
       "    </tr>\n",
       "  </tbody>\n",
       "</table>\n",
       "<p>400 rows × 6 columns</p>\n",
       "</div>"
      ],
      "text/plain": [
       "                Player  X start  Y start                 Recipient  X end  \\\n",
       "0       Laura Rafferty     35.0     60.0            Marie Hourihan   14.0   \n",
       "1       Marie Hourihan     16.0     50.0         Victoria Williams   22.0   \n",
       "2    Victoria Williams     33.0     18.0              Chloe Peplow   37.0   \n",
       "3         Chloe Peplow     37.0     27.0         Victoria Williams   30.0   \n",
       "4    Victoria Williams     31.0     17.0  Iniabasi Anefiok Umotong   68.0   \n",
       "..                 ...      ...      ...                       ...    ...   \n",
       "395      Kirsty Barton     49.0     80.0            Kayleigh Green   81.0   \n",
       "396       Ellie Brazil     65.0     75.0            Laura Rafferty   50.0   \n",
       "397     Marie Hourihan      6.0     36.0             Kirsty Barton   39.0   \n",
       "398      Danielle Buet      2.0     71.0              Ellie Brazil   51.0   \n",
       "399       Chloe Peplow     21.0     58.0             Aileen Whelan   35.0   \n",
       "\n",
       "     Y end  \n",
       "0     50.0  \n",
       "1     17.0  \n",
       "2     27.0  \n",
       "3     19.0  \n",
       "4     19.0  \n",
       "..     ...  \n",
       "395   73.0  \n",
       "396   67.0  \n",
       "397   63.0  \n",
       "398   71.0  \n",
       "399   67.0  \n",
       "\n",
       "[400 rows x 6 columns]"
      ]
     },
     "execution_count": 17,
     "metadata": {},
     "output_type": "execute_result"
    }
   ],
   "source": [
    "df"
   ]
  },
  {
   "cell_type": "markdown",
   "metadata": {},
   "source": [
    "### Count the number of passes for each pair of players"
   ]
  },
  {
   "cell_type": "code",
   "execution_count": 18,
   "metadata": {},
   "outputs": [],
   "source": [
    "passes = df.groupby([\"Player\",\"Recipient\"],as_index=False)[\"X start\"].count()"
   ]
  },
  {
   "cell_type": "code",
   "execution_count": 19,
   "metadata": {},
   "outputs": [
    {
     "data": {
      "text/html": [
       "<div>\n",
       "<style scoped>\n",
       "    .dataframe tbody tr th:only-of-type {\n",
       "        vertical-align: middle;\n",
       "    }\n",
       "\n",
       "    .dataframe tbody tr th {\n",
       "        vertical-align: top;\n",
       "    }\n",
       "\n",
       "    .dataframe thead th {\n",
       "        text-align: right;\n",
       "    }\n",
       "</style>\n",
       "<table border=\"1\" class=\"dataframe\">\n",
       "  <thead>\n",
       "    <tr style=\"text-align: right;\">\n",
       "      <th></th>\n",
       "      <th>Player</th>\n",
       "      <th>Recipient</th>\n",
       "      <th>X start</th>\n",
       "    </tr>\n",
       "  </thead>\n",
       "  <tbody>\n",
       "    <tr>\n",
       "      <th>0</th>\n",
       "      <td>Aileen Whelan</td>\n",
       "      <td>Chloe Peplow</td>\n",
       "      <td>3</td>\n",
       "    </tr>\n",
       "    <tr>\n",
       "      <th>1</th>\n",
       "      <td>Aileen Whelan</td>\n",
       "      <td>Danielle Buet</td>\n",
       "      <td>1</td>\n",
       "    </tr>\n",
       "    <tr>\n",
       "      <th>2</th>\n",
       "      <td>Aileen Whelan</td>\n",
       "      <td>Ellie Brazil</td>\n",
       "      <td>5</td>\n",
       "    </tr>\n",
       "    <tr>\n",
       "      <th>3</th>\n",
       "      <td>Aileen Whelan</td>\n",
       "      <td>Iniabasi Anefiok Umotong</td>\n",
       "      <td>5</td>\n",
       "    </tr>\n",
       "    <tr>\n",
       "      <th>4</th>\n",
       "      <td>Aileen Whelan</td>\n",
       "      <td>Jodie Brett</td>\n",
       "      <td>8</td>\n",
       "    </tr>\n",
       "    <tr>\n",
       "      <th>...</th>\n",
       "      <td>...</td>\n",
       "      <td>...</td>\n",
       "      <td>...</td>\n",
       "    </tr>\n",
       "    <tr>\n",
       "      <th>99</th>\n",
       "      <td>Victoria Williams</td>\n",
       "      <td>Kayleigh Green</td>\n",
       "      <td>7</td>\n",
       "    </tr>\n",
       "    <tr>\n",
       "      <th>100</th>\n",
       "      <td>Victoria Williams</td>\n",
       "      <td>Kirsty Barton</td>\n",
       "      <td>4</td>\n",
       "    </tr>\n",
       "    <tr>\n",
       "      <th>101</th>\n",
       "      <td>Victoria Williams</td>\n",
       "      <td>Laura Rafferty</td>\n",
       "      <td>2</td>\n",
       "    </tr>\n",
       "    <tr>\n",
       "      <th>102</th>\n",
       "      <td>Victoria Williams</td>\n",
       "      <td>Marie Hourihan</td>\n",
       "      <td>3</td>\n",
       "    </tr>\n",
       "    <tr>\n",
       "      <th>103</th>\n",
       "      <td>Victoria Williams</td>\n",
       "      <td>Sophie Perry-Campbell</td>\n",
       "      <td>7</td>\n",
       "    </tr>\n",
       "  </tbody>\n",
       "</table>\n",
       "<p>104 rows × 3 columns</p>\n",
       "</div>"
      ],
      "text/plain": [
       "                Player                 Recipient  X start\n",
       "0        Aileen Whelan              Chloe Peplow        3\n",
       "1        Aileen Whelan             Danielle Buet        1\n",
       "2        Aileen Whelan              Ellie Brazil        5\n",
       "3        Aileen Whelan  Iniabasi Anefiok Umotong        5\n",
       "4        Aileen Whelan               Jodie Brett        8\n",
       "..                 ...                       ...      ...\n",
       "99   Victoria Williams            Kayleigh Green        7\n",
       "100  Victoria Williams             Kirsty Barton        4\n",
       "101  Victoria Williams            Laura Rafferty        2\n",
       "102  Victoria Williams            Marie Hourihan        3\n",
       "103  Victoria Williams     Sophie Perry-Campbell        7\n",
       "\n",
       "[104 rows x 3 columns]"
      ]
     },
     "execution_count": 19,
     "metadata": {},
     "output_type": "execute_result"
    }
   ],
   "source": [
    "passes"
   ]
  },
  {
   "cell_type": "code",
   "execution_count": 20,
   "metadata": {},
   "outputs": [],
   "source": [
    "passes.rename({\"Player\": \"Player\", \"Recipient\": \"Recipient\",\"X start\" : \"Count\"}, axis=1,inplace=True)"
   ]
  },
  {
   "cell_type": "code",
   "execution_count": 21,
   "metadata": {
    "scrolled": true
   },
   "outputs": [],
   "source": [
    "sort_pass = passes.sort_values(by=\"Count\",ascending=False)"
   ]
  },
  {
   "cell_type": "code",
   "execution_count": 22,
   "metadata": {},
   "outputs": [
    {
     "data": {
      "text/html": [
       "<div>\n",
       "<style scoped>\n",
       "    .dataframe tbody tr th:only-of-type {\n",
       "        vertical-align: middle;\n",
       "    }\n",
       "\n",
       "    .dataframe tbody tr th {\n",
       "        vertical-align: top;\n",
       "    }\n",
       "\n",
       "    .dataframe thead th {\n",
       "        text-align: right;\n",
       "    }\n",
       "</style>\n",
       "<table border=\"1\" class=\"dataframe\">\n",
       "  <thead>\n",
       "    <tr style=\"text-align: right;\">\n",
       "      <th></th>\n",
       "      <th>Player</th>\n",
       "      <th>Recipient</th>\n",
       "      <th>Count</th>\n",
       "    </tr>\n",
       "  </thead>\n",
       "  <tbody>\n",
       "    <tr>\n",
       "      <th>62</th>\n",
       "      <td>Kirsty Barton</td>\n",
       "      <td>Kayleigh Green</td>\n",
       "      <td>16</td>\n",
       "    </tr>\n",
       "    <tr>\n",
       "      <th>87</th>\n",
       "      <td>Sophie Perry-Campbell</td>\n",
       "      <td>Iniabasi Anefiok Umotong</td>\n",
       "      <td>13</td>\n",
       "    </tr>\n",
       "    <tr>\n",
       "      <th>63</th>\n",
       "      <td>Kirsty Barton</td>\n",
       "      <td>Laura Rafferty</td>\n",
       "      <td>12</td>\n",
       "    </tr>\n",
       "    <tr>\n",
       "      <th>72</th>\n",
       "      <td>Laura Rafferty</td>\n",
       "      <td>Kirsty Barton</td>\n",
       "      <td>11</td>\n",
       "    </tr>\n",
       "    <tr>\n",
       "      <th>53</th>\n",
       "      <td>Kayleigh Green</td>\n",
       "      <td>Kirsty Barton</td>\n",
       "      <td>11</td>\n",
       "    </tr>\n",
       "    <tr>\n",
       "      <th>...</th>\n",
       "      <td>...</td>\n",
       "      <td>...</td>\n",
       "      <td>...</td>\n",
       "    </tr>\n",
       "    <tr>\n",
       "      <th>77</th>\n",
       "      <td>Marie Hourihan</td>\n",
       "      <td>Jodie Brett</td>\n",
       "      <td>1</td>\n",
       "    </tr>\n",
       "    <tr>\n",
       "      <th>38</th>\n",
       "      <td>Iniabasi Anefiok Umotong</td>\n",
       "      <td>Victoria Williams</td>\n",
       "      <td>1</td>\n",
       "    </tr>\n",
       "    <tr>\n",
       "      <th>31</th>\n",
       "      <td>Ellie Brazil</td>\n",
       "      <td>Sophie Perry-Campbell</td>\n",
       "      <td>1</td>\n",
       "    </tr>\n",
       "    <tr>\n",
       "      <th>32</th>\n",
       "      <td>Ellie Brazil</td>\n",
       "      <td>Victoria Williams</td>\n",
       "      <td>1</td>\n",
       "    </tr>\n",
       "    <tr>\n",
       "      <th>1</th>\n",
       "      <td>Aileen Whelan</td>\n",
       "      <td>Danielle Buet</td>\n",
       "      <td>1</td>\n",
       "    </tr>\n",
       "  </tbody>\n",
       "</table>\n",
       "<p>104 rows × 3 columns</p>\n",
       "</div>"
      ],
      "text/plain": [
       "                      Player                 Recipient  Count\n",
       "62             Kirsty Barton            Kayleigh Green     16\n",
       "87     Sophie Perry-Campbell  Iniabasi Anefiok Umotong     13\n",
       "63             Kirsty Barton            Laura Rafferty     12\n",
       "72            Laura Rafferty             Kirsty Barton     11\n",
       "53            Kayleigh Green             Kirsty Barton     11\n",
       "..                       ...                       ...    ...\n",
       "77            Marie Hourihan               Jodie Brett      1\n",
       "38  Iniabasi Anefiok Umotong         Victoria Williams      1\n",
       "31              Ellie Brazil     Sophie Perry-Campbell      1\n",
       "32              Ellie Brazil         Victoria Williams      1\n",
       "1              Aileen Whelan             Danielle Buet      1\n",
       "\n",
       "[104 rows x 3 columns]"
      ]
     },
     "execution_count": 22,
     "metadata": {},
     "output_type": "execute_result"
    }
   ],
   "source": [
    "sort_pass"
   ]
  },
  {
   "cell_type": "code",
   "execution_count": null,
   "metadata": {},
   "outputs": [],
   "source": [
    "#Delete all the number of passes that are only equal \"1\"\n",
    "for i in range(len(sort_pass)):\n",
    "    if sort_pass.loc[i,\"Count\"] == 1:\n",
    "        sort_pass.drop(i,inplace=True)\n",
    "    \n",
    "  "
   ]
  },
  {
   "cell_type": "code",
   "execution_count": null,
   "metadata": {},
   "outputs": [],
   "source": [
    "sort_pass"
   ]
  },
  {
   "cell_type": "code",
   "execution_count": null,
   "metadata": {},
   "outputs": [],
   "source": [
    "# DRawing the plot\n",
    "fig,ax = plt.subplots(figsize=(28,16))\n",
    "fig.set_facecolor('#22312b')\n",
    "ax.patch.set_facecolor('#22312b')\n",
    "\n",
    "#Drawing the pitch over the plot\n",
    "pitch = Pitch(pitch_color='white',line_color='black',stripe=False)\n",
    "pitch.draw(ax=ax)\n",
    "\n",
    "#Invert Y axis\n",
    "plt.gca().invert_yaxis()\n",
    "\n",
    "plt.legend('hello')\n"
   ]
  },
  {
   "cell_type": "code",
   "execution_count": null,
   "metadata": {},
   "outputs": [],
   "source": []
  }
 ],
 "metadata": {
  "kernelspec": {
   "display_name": "Python 3",
   "language": "python",
   "name": "python3"
  },
  "language_info": {
   "codemirror_mode": {
    "name": "ipython",
    "version": 3
   },
   "file_extension": ".py",
   "mimetype": "text/x-python",
   "name": "python",
   "nbconvert_exporter": "python",
   "pygments_lexer": "ipython3",
   "version": "3.8.2"
  }
 },
 "nbformat": 4,
 "nbformat_minor": 4
}
