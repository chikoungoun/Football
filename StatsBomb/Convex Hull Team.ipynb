{
 "cells": [
  {
   "cell_type": "markdown",
   "metadata": {},
   "source": [
    "# Convex Hull"
   ]
  },
  {
   "cell_type": "code",
   "execution_count": 1,
   "metadata": {},
   "outputs": [],
   "source": [
    "import json\n",
    "import numpy as np\n",
    "import pandas as pd\n",
    "import matplotlib.pyplot as plt\n",
    "import seaborn as sns\n",
    "from mplsoccer import Pitch\n",
    "%matplotlib inline"
   ]
  },
  {
   "cell_type": "code",
   "execution_count": 2,
   "metadata": {},
   "outputs": [],
   "source": [
    "with open('C:\\\\Users\\\\marwane\\\\Documents\\\\Data Science\\\\events_19769.json',encoding=\"utf-8\") as data:\n",
    "    events = json.load(data)"
   ]
  },
  {
   "cell_type": "code",
   "execution_count": 3,
   "metadata": {},
   "outputs": [],
   "source": [
    "def lineup(file):     \n",
    "    \n",
    "    players = []\n",
    "\n",
    "    for i in file:        \n",
    "        players.append(i['player']['name'])\n",
    "       \n",
    "    \n",
    "    return players"
   ]
  },
  {
   "cell_type": "code",
   "execution_count": 4,
   "metadata": {},
   "outputs": [],
   "source": [
    "lineup = lineup(events[0]['tactics']['lineup'])"
   ]
  },
  {
   "cell_type": "code",
   "execution_count": 5,
   "metadata": {},
   "outputs": [
    {
     "data": {
      "text/plain": [
       "855"
      ]
     },
     "execution_count": 5,
     "metadata": {},
     "output_type": "execute_result"
    }
   ],
   "source": [
    "passes = []\n",
    "c = 0\n",
    "for i in events:\n",
    "    if 'pass' in i.keys():\n",
    "        passes.append(i)\n",
    "        c=c+1\n",
    "\n",
    "c"
   ]
  },
  {
   "cell_type": "code",
   "execution_count": 6,
   "metadata": {},
   "outputs": [
    {
     "data": {
      "text/plain": [
       "400"
      ]
     },
     "execution_count": 6,
     "metadata": {},
     "output_type": "execute_result"
    }
   ],
   "source": [
    "successful_passes = []\n",
    "c = 0\n",
    "for i in passes:\n",
    "    if ('recipient' in i['pass'].keys()) and (i['team']['id'] == 965):\n",
    "        successful_passes.append(i)\n",
    "            #print('BOUM')\n",
    "            \n",
    "        c = c + 1\n",
    "        \n",
    "c"
   ]
  },
  {
   "cell_type": "markdown",
   "metadata": {},
   "source": [
    "### Pass connection dataframe"
   ]
  },
  {
   "cell_type": "code",
   "execution_count": 7,
   "metadata": {},
   "outputs": [],
   "source": [
    "id_players = []\n",
    "players = []\n",
    "x_starts = []\n",
    "y_starts = []\n",
    "id_recipients = []\n",
    "recipients = []\n",
    "x_ends = []\n",
    "y_ends = []\n",
    "\n",
    "for i in successful_passes:\n",
    "    id_players.append(i['player']['id'])    \n",
    "    players.append(i['player']['name'])\n",
    "    x_starts.append(i['location'][0])\n",
    "    y_starts.append(i['location'][1])\n",
    "        "
   ]
  },
  {
   "cell_type": "code",
   "execution_count": 8,
   "metadata": {},
   "outputs": [],
   "source": [
    "network = {'Player id':id_players,'Player':players,'X start':x_starts,'Y start':y_starts}\n",
    "    "
   ]
  },
  {
   "cell_type": "code",
   "execution_count": 9,
   "metadata": {},
   "outputs": [],
   "source": [
    "df = pd.DataFrame(network)"
   ]
  },
  {
   "cell_type": "markdown",
   "metadata": {},
   "source": [
    "### Average position per player"
   ]
  },
  {
   "cell_type": "code",
   "execution_count": 10,
   "metadata": {
    "scrolled": true
   },
   "outputs": [
    {
     "data": {
      "text/html": [
       "<div>\n",
       "<style scoped>\n",
       "    .dataframe tbody tr th:only-of-type {\n",
       "        vertical-align: middle;\n",
       "    }\n",
       "\n",
       "    .dataframe tbody tr th {\n",
       "        vertical-align: top;\n",
       "    }\n",
       "\n",
       "    .dataframe thead th {\n",
       "        text-align: right;\n",
       "    }\n",
       "</style>\n",
       "<table border=\"1\" class=\"dataframe\">\n",
       "  <thead>\n",
       "    <tr style=\"text-align: right;\">\n",
       "      <th></th>\n",
       "      <th>Player</th>\n",
       "      <th>Player id</th>\n",
       "      <th>X start</th>\n",
       "      <th>Y start</th>\n",
       "    </tr>\n",
       "  </thead>\n",
       "  <tbody>\n",
       "    <tr>\n",
       "      <th>0</th>\n",
       "      <td>Aileen Whelan</td>\n",
       "      <td>16374</td>\n",
       "      <td>74.724138</td>\n",
       "      <td>25.379310</td>\n",
       "    </tr>\n",
       "    <tr>\n",
       "      <th>1</th>\n",
       "      <td>Chloe Peplow</td>\n",
       "      <td>16397</td>\n",
       "      <td>53.432432</td>\n",
       "      <td>39.621622</td>\n",
       "    </tr>\n",
       "    <tr>\n",
       "      <th>2</th>\n",
       "      <td>Danielle Buet</td>\n",
       "      <td>20034</td>\n",
       "      <td>58.928571</td>\n",
       "      <td>36.428571</td>\n",
       "    </tr>\n",
       "    <tr>\n",
       "      <th>3</th>\n",
       "      <td>Ellie Brazil</td>\n",
       "      <td>16393</td>\n",
       "      <td>77.782609</td>\n",
       "      <td>64.913043</td>\n",
       "    </tr>\n",
       "    <tr>\n",
       "      <th>4</th>\n",
       "      <td>Iniabasi Anefiok Umotong</td>\n",
       "      <td>16378</td>\n",
       "      <td>73.625000</td>\n",
       "      <td>35.687500</td>\n",
       "    </tr>\n",
       "    <tr>\n",
       "      <th>5</th>\n",
       "      <td>Jodie Brett</td>\n",
       "      <td>16379</td>\n",
       "      <td>71.000000</td>\n",
       "      <td>32.588235</td>\n",
       "    </tr>\n",
       "    <tr>\n",
       "      <th>6</th>\n",
       "      <td>Kayleigh Green</td>\n",
       "      <td>16400</td>\n",
       "      <td>68.200000</td>\n",
       "      <td>57.500000</td>\n",
       "    </tr>\n",
       "    <tr>\n",
       "      <th>7</th>\n",
       "      <td>Kirsty Barton</td>\n",
       "      <td>19414</td>\n",
       "      <td>52.910448</td>\n",
       "      <td>73.402985</td>\n",
       "    </tr>\n",
       "    <tr>\n",
       "      <th>8</th>\n",
       "      <td>Laura Rafferty</td>\n",
       "      <td>16394</td>\n",
       "      <td>37.431818</td>\n",
       "      <td>54.181818</td>\n",
       "    </tr>\n",
       "    <tr>\n",
       "      <th>9</th>\n",
       "      <td>Marie Hourihan</td>\n",
       "      <td>19419</td>\n",
       "      <td>10.259259</td>\n",
       "      <td>42.074074</td>\n",
       "    </tr>\n",
       "    <tr>\n",
       "      <th>10</th>\n",
       "      <td>Sophie Perry-Campbell</td>\n",
       "      <td>16377</td>\n",
       "      <td>59.568182</td>\n",
       "      <td>12.909091</td>\n",
       "    </tr>\n",
       "    <tr>\n",
       "      <th>11</th>\n",
       "      <td>Victoria Williams</td>\n",
       "      <td>16395</td>\n",
       "      <td>40.809524</td>\n",
       "      <td>25.166667</td>\n",
       "    </tr>\n",
       "  </tbody>\n",
       "</table>\n",
       "</div>"
      ],
      "text/plain": [
       "                      Player  Player id    X start    Y start\n",
       "0              Aileen Whelan      16374  74.724138  25.379310\n",
       "1               Chloe Peplow      16397  53.432432  39.621622\n",
       "2              Danielle Buet      20034  58.928571  36.428571\n",
       "3               Ellie Brazil      16393  77.782609  64.913043\n",
       "4   Iniabasi Anefiok Umotong      16378  73.625000  35.687500\n",
       "5                Jodie Brett      16379  71.000000  32.588235\n",
       "6             Kayleigh Green      16400  68.200000  57.500000\n",
       "7              Kirsty Barton      19414  52.910448  73.402985\n",
       "8             Laura Rafferty      16394  37.431818  54.181818\n",
       "9             Marie Hourihan      19419  10.259259  42.074074\n",
       "10     Sophie Perry-Campbell      16377  59.568182  12.909091\n",
       "11         Victoria Williams      16395  40.809524  25.166667"
      ]
     },
     "execution_count": 10,
     "metadata": {},
     "output_type": "execute_result"
    }
   ],
   "source": [
    "mean_pos = df.groupby(['Player'],as_index=False).mean()\n",
    "mean_pos"
   ]
  },
  {
   "cell_type": "markdown",
   "metadata": {},
   "source": [
    "**Prepare data to convert into a convex hull object**"
   ]
  },
  {
   "cell_type": "code",
   "execution_count": 11,
   "metadata": {},
   "outputs": [],
   "source": [
    "# Convex Hull Library\n",
    "from scipy.spatial import ConvexHull, convex_hull_plot_2d"
   ]
  },
  {
   "cell_type": "code",
   "execution_count": 12,
   "metadata": {},
   "outputs": [
    {
     "data": {
      "text/plain": [
       "array([[74.72413793, 25.37931034],\n",
       "       [53.43243243, 39.62162162],\n",
       "       [58.92857143, 36.42857143],\n",
       "       [77.7826087 , 64.91304348],\n",
       "       [73.625     , 35.6875    ],\n",
       "       [71.        , 32.58823529],\n",
       "       [68.2       , 57.5       ],\n",
       "       [52.91044776, 73.40298507],\n",
       "       [37.43181818, 54.18181818],\n",
       "       [10.25925926, 42.07407407],\n",
       "       [59.56818182, 12.90909091],\n",
       "       [40.80952381, 25.16666667]])"
      ]
     },
     "execution_count": 12,
     "metadata": {},
     "output_type": "execute_result"
    }
   ],
   "source": [
    "xs = mean_pos['X start'].to_numpy()\n",
    "ys = mean_pos['Y start'].to_numpy()\n",
    "# Data needs to be formatted into a numpy object\n",
    "points = np.vstack((xs,ys)).T\n",
    "points"
   ]
  },
  {
   "cell_type": "code",
   "execution_count": 13,
   "metadata": {},
   "outputs": [],
   "source": [
    "hull = ConvexHull(points)"
   ]
  },
  {
   "cell_type": "code",
   "execution_count": 14,
   "metadata": {},
   "outputs": [
    {
     "data": {
      "image/png": "[encoded data removed]",
      "text/plain": [
       "<Figure size 2016x1152 with 1 Axes>"
      ]
     },
     "metadata": {},
     "output_type": "display_data"
    }
   ],
   "source": [
    "\n",
    "\n",
    "arrow_shift = 1 ##Units by which the arrow moves from its original position\n",
    "shrink_val = 1.5\n",
    "\n",
    "# DRawing the plot\n",
    "fig,ax = plt.subplots(figsize=(28,16))\n",
    "fig.set_facecolor('#22312b')\n",
    "ax.patch.set_facecolor('#22312b')\n",
    "\n",
    "#Drawing the pitch over the plot\n",
    "pitch = Pitch(pitch_color='white',line_color='black',stripe=False)\n",
    "pitch.draw(ax=ax)\n",
    "\n",
    "#Invert Y axis\n",
    "plt.gca().invert_yaxis()\n",
    "\n",
    "\n",
    "    \n",
    "#for i,row in mean_passes.iterrows():\n",
    "#        ax.annotate(\"\",xy=(row['X start'],row['Y start']),xytext=(row['X end'],row['Y end']),arrowprops=dict(arrowstyle=\"-|>\", color=\"0.25\"))\n",
    "\n",
    "for i, row in mean_pos.iterrows():\n",
    "\n",
    "    plt.scatter(row['X start'],row['Y start'],s=90)\n",
    "    plt.annotate(row['Player'],(row['X start'],row['Y start']))\n",
    "    \n",
    "    for simplex in hull.simplices:\n",
    "        plt.plot(points[simplex,0],points[simplex,1],'k-')\n"
   ]
  },
  {
   "cell_type": "code",
   "execution_count": null,
   "metadata": {},
   "outputs": [],
   "source": []
  }
 ],
 "metadata": {
  "kernelspec": {
   "display_name": "Python 3",
   "language": "python",
   "name": "python3"
  },
  "language_info": {
   "codemirror_mode": {
    "name": "ipython",
    "version": 3
   },
   "file_extension": ".py",
   "mimetype": "text/x-python",
   "name": "python",
   "nbconvert_exporter": "python",
   "pygments_lexer": "ipython3",
   "version": "3.8.2"
  }
 },
 "nbformat": 4,
 "nbformat_minor": 4
}
