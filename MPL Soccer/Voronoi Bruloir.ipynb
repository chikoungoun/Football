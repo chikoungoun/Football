{
 "cells": [
  {
   "cell_type": "markdown",
   "metadata": {},
   "source": [
    "# Voronoi Tuto"
   ]
  },
  {
   "cell_type": "markdown",
   "metadata": {},
   "source": [
    "Credit source : https://www.youtube.com/watch?v=BUKsBH9oQKg  \n",
    "Visit his Github : https://github.com/mckayjohns"
   ]
  },
  {
   "cell_type": "code",
   "execution_count": 1,
   "metadata": {},
   "outputs": [],
   "source": [
    "import pandas as pd\n",
    "import numpy as np\n",
    "from mplsoccer.pitch import Pitch\n",
    "from mplsoccer.pitch import VerticalPitch\n",
    "from scipy.spatial import Voronoi, voronoi_plot_2d\n",
    "import matplotlib.pyplot as plt\n",
    "%matplotlib inline\n",
    "#import "
   ]
  },
  {
   "cell_type": "code",
   "execution_count": 2,
   "metadata": {},
   "outputs": [],
   "source": [
    "barca_x=[93,96,99,102,104,95,86,79,89]\n",
    "barca_y=[9,22,33,44,56,63,52,33,22]\n",
    "barca = list(np.zeros((9,),dtype=int))\n",
    "\n",
    "opp_x=[99,100,102,104,104,102,97,98,94,77]\n",
    "opp_y=[14,22,33,43,46,55,37,27,21,45]\n",
    "opp = list(np.ones((10,),dtype=int))\n",
    "\n",
    "df = pd.DataFrame({\n",
    "    'x':barca_x+opp_x,\n",
    "    'y':barca_y+opp_y,\n",
    "    'team':barca+opp\n",
    "})"
   ]
  },
  {
   "cell_type": "code",
   "execution_count": 3,
   "metadata": {},
   "outputs": [
    {
     "data": {
      "text/html": [
       "<div>\n",
       "<style scoped>\n",
       "    .dataframe tbody tr th:only-of-type {\n",
       "        vertical-align: middle;\n",
       "    }\n",
       "\n",
       "    .dataframe tbody tr th {\n",
       "        vertical-align: top;\n",
       "    }\n",
       "\n",
       "    .dataframe thead th {\n",
       "        text-align: right;\n",
       "    }\n",
       "</style>\n",
       "<table border=\"1\" class=\"dataframe\">\n",
       "  <thead>\n",
       "    <tr style=\"text-align: right;\">\n",
       "      <th></th>\n",
       "      <th>x</th>\n",
       "      <th>y</th>\n",
       "      <th>team</th>\n",
       "    </tr>\n",
       "  </thead>\n",
       "  <tbody>\n",
       "    <tr>\n",
       "      <th>0</th>\n",
       "      <td>93</td>\n",
       "      <td>9</td>\n",
       "      <td>0</td>\n",
       "    </tr>\n",
       "    <tr>\n",
       "      <th>1</th>\n",
       "      <td>96</td>\n",
       "      <td>22</td>\n",
       "      <td>0</td>\n",
       "    </tr>\n",
       "    <tr>\n",
       "      <th>2</th>\n",
       "      <td>99</td>\n",
       "      <td>33</td>\n",
       "      <td>0</td>\n",
       "    </tr>\n",
       "    <tr>\n",
       "      <th>3</th>\n",
       "      <td>102</td>\n",
       "      <td>44</td>\n",
       "      <td>0</td>\n",
       "    </tr>\n",
       "    <tr>\n",
       "      <th>4</th>\n",
       "      <td>104</td>\n",
       "      <td>56</td>\n",
       "      <td>0</td>\n",
       "    </tr>\n",
       "    <tr>\n",
       "      <th>5</th>\n",
       "      <td>95</td>\n",
       "      <td>63</td>\n",
       "      <td>0</td>\n",
       "    </tr>\n",
       "    <tr>\n",
       "      <th>6</th>\n",
       "      <td>86</td>\n",
       "      <td>52</td>\n",
       "      <td>0</td>\n",
       "    </tr>\n",
       "    <tr>\n",
       "      <th>7</th>\n",
       "      <td>79</td>\n",
       "      <td>33</td>\n",
       "      <td>0</td>\n",
       "    </tr>\n",
       "    <tr>\n",
       "      <th>8</th>\n",
       "      <td>89</td>\n",
       "      <td>22</td>\n",
       "      <td>0</td>\n",
       "    </tr>\n",
       "    <tr>\n",
       "      <th>9</th>\n",
       "      <td>99</td>\n",
       "      <td>14</td>\n",
       "      <td>1</td>\n",
       "    </tr>\n",
       "    <tr>\n",
       "      <th>10</th>\n",
       "      <td>100</td>\n",
       "      <td>22</td>\n",
       "      <td>1</td>\n",
       "    </tr>\n",
       "    <tr>\n",
       "      <th>11</th>\n",
       "      <td>102</td>\n",
       "      <td>33</td>\n",
       "      <td>1</td>\n",
       "    </tr>\n",
       "    <tr>\n",
       "      <th>12</th>\n",
       "      <td>104</td>\n",
       "      <td>43</td>\n",
       "      <td>1</td>\n",
       "    </tr>\n",
       "    <tr>\n",
       "      <th>13</th>\n",
       "      <td>104</td>\n",
       "      <td>46</td>\n",
       "      <td>1</td>\n",
       "    </tr>\n",
       "    <tr>\n",
       "      <th>14</th>\n",
       "      <td>102</td>\n",
       "      <td>55</td>\n",
       "      <td>1</td>\n",
       "    </tr>\n",
       "    <tr>\n",
       "      <th>15</th>\n",
       "      <td>97</td>\n",
       "      <td>37</td>\n",
       "      <td>1</td>\n",
       "    </tr>\n",
       "    <tr>\n",
       "      <th>16</th>\n",
       "      <td>98</td>\n",
       "      <td>27</td>\n",
       "      <td>1</td>\n",
       "    </tr>\n",
       "    <tr>\n",
       "      <th>17</th>\n",
       "      <td>94</td>\n",
       "      <td>21</td>\n",
       "      <td>1</td>\n",
       "    </tr>\n",
       "    <tr>\n",
       "      <th>18</th>\n",
       "      <td>77</td>\n",
       "      <td>45</td>\n",
       "      <td>1</td>\n",
       "    </tr>\n",
       "  </tbody>\n",
       "</table>\n",
       "</div>"
      ],
      "text/plain": [
       "      x   y  team\n",
       "0    93   9     0\n",
       "1    96  22     0\n",
       "2    99  33     0\n",
       "3   102  44     0\n",
       "4   104  56     0\n",
       "5    95  63     0\n",
       "6    86  52     0\n",
       "7    79  33     0\n",
       "8    89  22     0\n",
       "9    99  14     1\n",
       "10  100  22     1\n",
       "11  102  33     1\n",
       "12  104  43     1\n",
       "13  104  46     1\n",
       "14  102  55     1\n",
       "15   97  37     1\n",
       "16   98  27     1\n",
       "17   94  21     1\n",
       "18   77  45     1"
      ]
     },
     "execution_count": 3,
     "metadata": {},
     "output_type": "execute_result"
    }
   ],
   "source": [
    "df"
   ]
  },
  {
   "cell_type": "code",
   "execution_count": 42,
   "metadata": {},
   "outputs": [
    {
     "data": {
      "image/png": "[encoded data removed]",
      "text/plain": [
       "<Figure size 936x612 with 1 Axes>"
      ]
     },
     "metadata": {},
     "output_type": "display_data"
    }
   ],
   "source": [
    "fig,ax = plt.subplots(figsize=(13,8.5))\n",
    "\n",
    "pitch = Pitch(pitch_type=\"statsbomb\",pitch_color=\"#38383b\",\n",
    "              line_color=\"white\",constrained_layout=False,tight_layout=True)\n",
    "\n",
    "pitch.draw(ax=ax)\n",
    "\n",
    "pitch.scatter(df.loc[df['team'] == 1]['x'],df.loc[df['team'] == 1]['y'], color='white', ax=ax)\n",
    "\n",
    "plt.axvline(x=77, color='b')\n",
    "plt.axvline(x=90, color='b')\n",
    "\n",
    "\n",
    "x= df.x\n",
    "y= df.y\n",
    "\n",
    "# using the Voronoi method found in the Pitch library\n",
    "team1, team2 = pitch.voronoi(x,y,df.team)\n",
    "\n",
    "t1 = pitch.polygon(team1,ax=ax,fc='red',ec='white',lw=3,alpha=.4)\n",
    "t1 = pitch.polygon(team2,ax=ax,fc='blue',ec='white',lw=3,alpha=.4)"
   ]
  },
  {
   "cell_type": "code",
   "execution_count": 5,
   "metadata": {},
   "outputs": [
    {
     "data": {
      "text/plain": [
       "array([array([[ 90.25409836,  15.2704918 ],\n",
       "              [ 60.46511628,   6.10465116],\n",
       "              [ 50.        ,   0.        ],\n",
       "              [105.58333333,   0.        ],\n",
       "              [ 93.05223881,  15.03731343]]),\n",
       "       array([[92.625     , 26.25      ],\n",
       "              [98.        , 24.1       ],\n",
       "              [98.        , 18.1875    ],\n",
       "              [96.86842105, 17.76315789]]),\n",
       "       array([[100.5       ,  29.66666667],\n",
       "              [ 90.625     ,  31.3125    ],\n",
       "              [100.5       ,  36.25      ]]),\n",
       "       array([[ 92.68421053,  45.36842105],\n",
       "              [100.97368421,  39.44736842],\n",
       "              [103.5       ,  44.5       ],\n",
       "              [ 98.5       ,  49.5       ],\n",
       "              [ 94.75      ,  49.5       ]]),\n",
       "       array([[105.25      ,  51.        ],\n",
       "              [120.        ,  51.        ],\n",
       "              [120.        ,  80.        ],\n",
       "              [115.44444444,  80.        ],\n",
       "              [100.41304348,  60.67391304]]),\n",
       "       array([[ 93.74832215,  54.84228188],\n",
       "              [ 63.        ,  80.        ],\n",
       "              [115.44444444,  80.        ],\n",
       "              [100.41304348,  60.67391304]]),\n",
       "       array([[92.68421053, 45.36842105],\n",
       "              [94.75      , 49.5       ],\n",
       "              [93.74832215, 54.84228188],\n",
       "              [63.        , 80.        ],\n",
       "              [57.        , 80.        ],\n",
       "              [87.11320755, 41.28301887]]),\n",
       "       array([[88.71428571, 31.78571429],\n",
       "              [86.78571429, 40.46428571],\n",
       "              [ 0.        , 26.        ],\n",
       "              [ 0.        ,  0.        ],\n",
       "              [50.        ,  0.        ],\n",
       "              [60.46511628,  6.10465116]]),\n",
       "       array([[92.47058824, 26.35294118],\n",
       "              [89.76315789, 31.22631579],\n",
       "              [88.71428571, 31.78571429],\n",
       "              [60.46511628,  6.10465116],\n",
       "              [90.25409836, 15.2704918 ]])], dtype=object)"
      ]
     },
     "execution_count": 5,
     "metadata": {},
     "output_type": "execute_result"
    }
   ],
   "source": [
    "team2"
   ]
  },
  {
   "cell_type": "markdown",
   "metadata": {},
   "source": [
    "### Compute voronoi area"
   ]
  },
  {
   "cell_type": "code",
   "execution_count": 6,
   "metadata": {},
   "outputs": [],
   "source": [
    "#shoelace formula\n",
    "def polygonArea(X, Y, n):\n",
    " \n",
    "    # Initialize area\n",
    "    area = 0.0\n",
    " \n",
    "    # Calculate value of shoelace formula\n",
    "    j = n - 1\n",
    "    for i in range(0,n):\n",
    "        area += (X[j] + X[i]) * (Y[j] - Y[i])\n",
    "        j = i   # j is previous vertex to i\n",
    "    \n",
    " \n",
    "    # Return absolute value\n",
    "    return int(abs(area / 2.0))"
   ]
  },
  {
   "cell_type": "code",
   "execution_count": 7,
   "metadata": {},
   "outputs": [
    {
     "data": {
      "image/png": "[encoded data removed]",
      "text/plain": [
       "<Figure size 936x612 with 1 Axes>"
      ]
     },
     "metadata": {},
     "output_type": "display_data"
    }
   ],
   "source": [
    "fig,ax = plt.subplots(figsize=(13,8.5))\n",
    "\n",
    "pitch = Pitch(pitch_type=\"statsbomb\",pitch_color=\"#38383b\",\n",
    "              line_color=\"white\",constrained_layout=False,tight_layout=True,\n",
    "              half=False)\n",
    "\n",
    "pitch.draw(ax=ax)\n",
    "\n",
    "plt.axvline(x=60, color='b')\n",
    "plt.axvline(x=105, color='g')\n",
    "\n",
    "x= df.x\n",
    "y= df.y\n",
    "\n",
    "# using the Voronoi method found in the Pitch library\n",
    "team1, team2 = pitch.voronoi(x,y,df.team)\n",
    "\n",
    "t1 = pitch.polygon(team1,ax=ax,fc='red',ec='white',lw=3,alpha=.4)\n",
    "#t1 = pitch.polygon(team2,ax=ax,fc='blue',ec='white',lw=3,alpha=.4)"
   ]
  },
  {
   "cell_type": "code",
   "execution_count": 8,
   "metadata": {},
   "outputs": [
    {
     "data": {
      "text/plain": [
       "array([array([[ 93.05223881,  15.03731343],\n",
       "              [105.58333333,   0.        ],\n",
       "              [120.        ,   0.        ],\n",
       "              [120.        ,  15.4375    ],\n",
       "              [ 98.        ,  18.1875    ],\n",
       "              [ 96.86842105,  17.76315789]]),\n",
       "       array([[120.        ,  24.04545455],\n",
       "              [120.        ,  15.4375    ],\n",
       "              [ 98.        ,  18.1875    ],\n",
       "              [ 98.        ,  24.1       ],\n",
       "              [104.78125   ,  26.8125    ]]),\n",
       "       array([[100.5       ,  36.25      ],\n",
       "              [100.5       ,  29.66666667],\n",
       "              [104.78125   ,  26.8125    ],\n",
       "              [120.        ,  24.04545455],\n",
       "              [120.        ,  34.6       ],\n",
       "              [102.05172414,  38.18965517]]),\n",
       "       array([[120.        ,  34.6       ],\n",
       "              [120.        ,  44.5       ],\n",
       "              [103.5       ,  44.5       ],\n",
       "              [100.97368421,  39.44736842],\n",
       "              [102.05172414,  38.18965517]]), array([[103.5 ,  44.5 ],\n",
       "                                                     [ 98.5 ,  49.5 ],\n",
       "                                                     [105.25,  51.  ],\n",
       "                                                     [120.  ,  51.  ],\n",
       "                                                     [120.  ,  44.5 ]]),\n",
       "       array([[ 94.75      ,  49.5       ],\n",
       "              [ 98.5       ,  49.5       ],\n",
       "              [105.25      ,  51.        ],\n",
       "              [100.41304348,  60.67391304],\n",
       "              [ 93.74832215,  54.84228188]]),\n",
       "       array([[100.5       ,  36.25      ],\n",
       "              [102.05172414,  38.18965517],\n",
       "              [100.97368421,  39.44736842],\n",
       "              [ 92.68421053,  45.36842105],\n",
       "              [ 87.11320755,  41.28301887],\n",
       "              [ 86.78571429,  40.46428571],\n",
       "              [ 88.71428571,  31.78571429],\n",
       "              [ 89.76315789,  31.22631579],\n",
       "              [ 90.625     ,  31.3125    ]]),\n",
       "       array([[100.5       ,  29.66666667],\n",
       "              [104.78125   ,  26.8125    ],\n",
       "              [ 98.        ,  24.1       ],\n",
       "              [ 92.625     ,  26.25      ],\n",
       "              [ 92.47058824,  26.35294118],\n",
       "              [ 89.76315789,  31.22631579],\n",
       "              [ 90.625     ,  31.3125    ]]),\n",
       "       array([[92.625     , 26.25      ],\n",
       "              [96.86842105, 17.76315789],\n",
       "              [93.05223881, 15.03731343],\n",
       "              [90.25409836, 15.2704918 ],\n",
       "              [92.47058824, 26.35294118]]),\n",
       "       array([[87.11320755, 41.28301887],\n",
       "              [57.        , 80.        ],\n",
       "              [ 0.        , 80.        ],\n",
       "              [ 0.        , 26.        ],\n",
       "              [86.78571429, 40.46428571]])], dtype=object)"
      ]
     },
     "execution_count": 8,
     "metadata": {},
     "output_type": "execute_result"
    }
   ],
   "source": [
    "team1"
   ]
  },
  {
   "cell_type": "code",
   "execution_count": 9,
   "metadata": {},
   "outputs": [
    {
     "data": {
      "text/plain": [
       "array([[ 93.05223881,  15.03731343],\n",
       "       [105.58333333,   0.        ],\n",
       "       [120.        ,   0.        ],\n",
       "       [120.        ,  15.4375    ],\n",
       "       [ 98.        ,  18.1875    ],\n",
       "       [ 96.86842105,  17.76315789]])"
      ]
     },
     "execution_count": 9,
     "metadata": {},
     "output_type": "execute_result"
    }
   ],
   "source": [
    "team1[0]"
   ]
  },
  {
   "cell_type": "code",
   "execution_count": 10,
   "metadata": {},
   "outputs": [],
   "source": [
    "xs = []\n",
    "ys = []\n",
    "for i in team1[0]:\n",
    "    xs.append(i[0])\n",
    "    ys.append(i[1])\n"
   ]
  },
  {
   "cell_type": "code",
   "execution_count": 11,
   "metadata": {},
   "outputs": [
    {
     "data": {
      "text/plain": [
       "[93.05223880597015, 105.58333333333333, 120.0, 120.0, 98.0, 96.86842105263158]"
      ]
     },
     "execution_count": 11,
     "metadata": {},
     "output_type": "execute_result"
    }
   ],
   "source": [
    "xs"
   ]
  },
  {
   "cell_type": "code",
   "execution_count": 12,
   "metadata": {},
   "outputs": [
    {
     "data": {
      "text/plain": [
       "[15.03731343283582, 0.0, 0.0, 15.4375, 18.1875, 17.763157894736842]"
      ]
     },
     "execution_count": 12,
     "metadata": {},
     "output_type": "execute_result"
    }
   ],
   "source": [
    "ys"
   ]
  },
  {
   "cell_type": "code",
   "execution_count": 13,
   "metadata": {},
   "outputs": [],
   "source": [
    "n = len(xs)"
   ]
  },
  {
   "cell_type": "code",
   "execution_count": 14,
   "metadata": {},
   "outputs": [
    {
     "data": {
      "text/plain": [
       "358"
      ]
     },
     "execution_count": 14,
     "metadata": {},
     "output_type": "execute_result"
    }
   ],
   "source": [
    "polygonArea(xs, ys,n)"
   ]
  },
  {
   "cell_type": "code",
   "execution_count": 15,
   "metadata": {},
   "outputs": [],
   "source": [
    "def centroid(X,Y,n):\n",
    "     x = sum(X) / n\n",
    "     y = sum(Y) / n\n",
    "     return(x, y)"
   ]
  },
  {
   "cell_type": "code",
   "execution_count": 16,
   "metadata": {},
   "outputs": [
    {
     "data": {
      "text/plain": [
       "(105.5839988653225, 11.070911887928778)"
      ]
     },
     "execution_count": 16,
     "metadata": {},
     "output_type": "execute_result"
    }
   ],
   "source": [
    "centroid(xs,ys,n)"
   ]
  },
  {
   "cell_type": "code",
   "execution_count": 17,
   "metadata": {},
   "outputs": [
    {
     "data": {
      "image/png": "[encoded data removed]",
      "text/plain": [
       "<Figure size 936x612 with 1 Axes>"
      ]
     },
     "metadata": {},
     "output_type": "display_data"
    }
   ],
   "source": [
    "fig,ax = plt.subplots(figsize=(13,8.5))\n",
    "\n",
    "pitch = Pitch(pitch_type=\"statsbomb\",pitch_color=\"#38383b\",\n",
    "              line_color=\"white\",constrained_layout=False,tight_layout=True,\n",
    "              half=False)\n",
    "\n",
    "pitch.draw(ax=ax)\n",
    "\n",
    "plt.axvline(x=60, color='b')\n",
    "plt.axvline(x=105, color='g')\n",
    "\n",
    "x= df.x\n",
    "y= df.y\n",
    "\n",
    "# using the Voronoi method found in the Pitch library\n",
    "team1, team2 = pitch.voronoi(x,y,df.team)\n",
    "\n",
    "t1 = pitch.polygon(team1,ax=ax,fc='red',ec='white',lw=3,alpha=.4)\n",
    "#t1 = pitch.polygon(team2,ax=ax,fc='blue',ec='white',lw=3,alpha=.4)"
   ]
  },
  {
   "cell_type": "code",
   "execution_count": 18,
   "metadata": {},
   "outputs": [],
   "source": [
    "def centroid_voronoi(team):\n",
    "    centroids = []\n",
    "    for c,i in enumerate(team1):\n",
    "        l_x = []\n",
    "        l_y = []\n",
    "        for j in i:\n",
    "            #print(j)\n",
    "            l_x.append(j[0])\n",
    "            l_y.append(j[1])\n",
    "        print(centroid(l_x,l_y,len(l_x)))\n",
    "        centroids.append(centroid(l_x,l_y,len(l_x)))\n",
    "    return centroids"
   ]
  },
  {
   "cell_type": "code",
   "execution_count": 19,
   "metadata": {},
   "outputs": [
    {
     "name": "stdout",
     "output_type": "stream",
     "text": [
      "(105.5839988653225, 11.070911887928778)\n",
      "(108.15625, 21.71659090909091)\n",
      "(107.97216235632185, 31.594046064089166)\n",
      "(109.30508166969146, 40.24740471869328)\n",
      "(109.45, 48.1)\n",
      "(98.53227312518239, 53.10323898453457)\n",
      "(93.24566492407553, 37.25858658927736)\n",
      "(95.53785659000444, 27.96013194751585)\n",
      "(93.05406929091032, 20.13478086146439)\n",
      "(46.17978436657681, 53.549460916442044)\n"
     ]
    }
   ],
   "source": [
    "c = centroid_voronoi(team1)"
   ]
  },
  {
   "cell_type": "code",
   "execution_count": 20,
   "metadata": {},
   "outputs": [],
   "source": [
    "dc = pd.DataFrame(c, columns=['x', 'y'])"
   ]
  },
  {
   "cell_type": "code",
   "execution_count": 21,
   "metadata": {},
   "outputs": [
    {
     "data": {
      "text/html": [
       "<div>\n",
       "<style scoped>\n",
       "    .dataframe tbody tr th:only-of-type {\n",
       "        vertical-align: middle;\n",
       "    }\n",
       "\n",
       "    .dataframe tbody tr th {\n",
       "        vertical-align: top;\n",
       "    }\n",
       "\n",
       "    .dataframe thead th {\n",
       "        text-align: right;\n",
       "    }\n",
       "</style>\n",
       "<table border=\"1\" class=\"dataframe\">\n",
       "  <thead>\n",
       "    <tr style=\"text-align: right;\">\n",
       "      <th></th>\n",
       "      <th>x</th>\n",
       "      <th>y</th>\n",
       "    </tr>\n",
       "  </thead>\n",
       "  <tbody>\n",
       "    <tr>\n",
       "      <th>0</th>\n",
       "      <td>105.583999</td>\n",
       "      <td>11.070912</td>\n",
       "    </tr>\n",
       "    <tr>\n",
       "      <th>1</th>\n",
       "      <td>108.156250</td>\n",
       "      <td>21.716591</td>\n",
       "    </tr>\n",
       "    <tr>\n",
       "      <th>2</th>\n",
       "      <td>107.972162</td>\n",
       "      <td>31.594046</td>\n",
       "    </tr>\n",
       "    <tr>\n",
       "      <th>3</th>\n",
       "      <td>109.305082</td>\n",
       "      <td>40.247405</td>\n",
       "    </tr>\n",
       "    <tr>\n",
       "      <th>4</th>\n",
       "      <td>109.450000</td>\n",
       "      <td>48.100000</td>\n",
       "    </tr>\n",
       "    <tr>\n",
       "      <th>5</th>\n",
       "      <td>98.532273</td>\n",
       "      <td>53.103239</td>\n",
       "    </tr>\n",
       "    <tr>\n",
       "      <th>6</th>\n",
       "      <td>93.245665</td>\n",
       "      <td>37.258587</td>\n",
       "    </tr>\n",
       "    <tr>\n",
       "      <th>7</th>\n",
       "      <td>95.537857</td>\n",
       "      <td>27.960132</td>\n",
       "    </tr>\n",
       "    <tr>\n",
       "      <th>8</th>\n",
       "      <td>93.054069</td>\n",
       "      <td>20.134781</td>\n",
       "    </tr>\n",
       "    <tr>\n",
       "      <th>9</th>\n",
       "      <td>46.179784</td>\n",
       "      <td>53.549461</td>\n",
       "    </tr>\n",
       "  </tbody>\n",
       "</table>\n",
       "</div>"
      ],
      "text/plain": [
       "            x          y\n",
       "0  105.583999  11.070912\n",
       "1  108.156250  21.716591\n",
       "2  107.972162  31.594046\n",
       "3  109.305082  40.247405\n",
       "4  109.450000  48.100000\n",
       "5   98.532273  53.103239\n",
       "6   93.245665  37.258587\n",
       "7   95.537857  27.960132\n",
       "8   93.054069  20.134781\n",
       "9   46.179784  53.549461"
      ]
     },
     "execution_count": 21,
     "metadata": {},
     "output_type": "execute_result"
    }
   ],
   "source": [
    "dc"
   ]
  },
  {
   "cell_type": "code",
   "execution_count": 33,
   "metadata": {},
   "outputs": [
    {
     "data": {
      "image/png": "[encoded data removed]",
      "text/plain": [
       "<Figure size 936x612 with 1 Axes>"
      ]
     },
     "metadata": {},
     "output_type": "display_data"
    }
   ],
   "source": [
    "fig,ax = plt.subplots(figsize=(13,8.5))\n",
    "\n",
    "pitch = Pitch(pitch_type=\"statsbomb\",pitch_color=\"#38383b\",\n",
    "              line_color=\"white\",constrained_layout=False,tight_layout=True,\n",
    "              half=False)\n",
    "\n",
    "pitch.draw(ax=ax)\n",
    "\n",
    "# display the centroid lines\n",
    "plt.axvline(x=60, color='b')\n",
    "plt.axvline(x=120, color='b')\n",
    "\n",
    "plt.axvline(x=105, color='g')\n",
    "plt.axvline(x=108, color='g')\n",
    "plt.axvline(x=46, color='g')\n",
    "\n",
    "\n",
    "\n",
    "pitch.scatter(dc['x'],dc['y'], color='white', ax=ax)\n",
    "\n",
    "\n",
    "x= df.x\n",
    "y= df.y\n",
    "\n",
    "# using the Voronoi method found in the Pitch library\n",
    "team1, team2 = pitch.voronoi(x,y,df.team)\n",
    "\n",
    "t1 = pitch.polygon(team1,ax=ax,fc='red',ec='white',lw=3,alpha=.4)\n",
    "#t1 = pitch.polygon(team2,ax=ax,fc='blue',ec='white',lw=3,alpha=.4)"
   ]
  },
  {
   "cell_type": "code",
   "execution_count": null,
   "metadata": {},
   "outputs": [],
   "source": []
  }
 ],
 "metadata": {
  "kernelspec": {
   "display_name": "Python 3 (ipykernel)",
   "language": "python",
   "name": "python3"
  },
  "language_info": {
   "codemirror_mode": {
    "name": "ipython",
    "version": 3
   },
   "file_extension": ".py",
   "mimetype": "text/x-python",
   "name": "python",
   "nbconvert_exporter": "python",
   "pygments_lexer": "ipython3",
   "version": "3.8.2"
  }
 },
 "nbformat": 4,
 "nbformat_minor": 4
}
